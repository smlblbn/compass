{
 "cells": [
  {
   "cell_type": "code",
   "execution_count": 5,
   "metadata": {
    "collapsed": true
   },
   "outputs": [],
   "source": [
    "import requests\n",
    "import json\n",
    "import pandas as pd\n",
    "import os\n",
    "\n",
    "with open('../data/general/auth.json') as auth_json:\n",
    "    authes = pd.read_json(auth_json)\n",
    "\n",
    "auth = authes['token'].iloc[-1]['token']\n",
    "headers = {'Authorization': auth}\n",
    "\n",
    "with open('../data/general/matches_2017_2018_v1.json') as matches_json:\n",
    "    matches = pd.read_json(matches_json)"
   ]
  },
  {
   "cell_type": "markdown",
   "metadata": {},
   "source": [
    "Get pass data"
   ]
  },
  {
   "cell_type": "code",
   "execution_count": 5,
   "metadata": {
    "collapsed": true
   },
   "outputs": [],
   "source": [
    "for id in matches['id']:\n",
    "    url = 'https://api.sentiocloud.net/v2/Passes/' + str(id)\n",
    "    data = requests.get(url=url, headers=headers)\n",
    "    data = json.loads(data.content)\n",
    "    \n",
    "    directory = '../data/match_' + str(id)\n",
    "    \n",
    "    if not os.path.exists(directory):\n",
    "        os.makedirs(directory)\n",
    "    \n",
    "    with open('../data/match_' + str(id) + '/pass_data_' + str(id) + '.json', 'w') as file:\n",
    "        json.dump(data, file, indent=4, sort_keys=True)"
   ]
  },
  {
   "cell_type": "markdown",
   "metadata": {
    "collapsed": true
   },
   "source": [
    "Get Per Second Data"
   ]
  },
  {
   "cell_type": "code",
   "execution_count": 8,
   "metadata": {},
   "outputs": [],
   "source": [
    "for id in matches['id']:\n",
    "    url = 'https://api.sentiocloud.net/v2/PersecData/' + str(id)\n",
    "    data = requests.get(url=url, headers=headers)\n",
    "    data = json.loads(data.content)\n",
    "    \n",
    "    directory = '../data/match_' + str(id)\n",
    "    \n",
    "    if not os.path.exists(directory):\n",
    "        os.makedirs(directory)\n",
    "        \n",
    "    with open('../data/match_' + str(id) + '/per_sec_data_' + str(id) + '.json', 'w') as file:\n",
    "        json.dump(data, file, indent=4, sort_keys=True)"
   ]
  },
  {
   "cell_type": "markdown",
   "metadata": {},
   "source": [
    "Get Match Data"
   ]
  },
  {
   "cell_type": "code",
   "execution_count": 3,
   "metadata": {},
   "outputs": [],
   "source": [
    "for id in matches['id']:\n",
    "    url = 'https://api.sentiocloud.net/v2/CurrData/' + str(id)\n",
    "    data = requests.get(url=url, headers=headers)\n",
    "    data = json.loads(data.content)\n",
    "    \n",
    "    directory = '../data/match_' + str(id)\n",
    "    \n",
    "    if not os.path.exists(directory):\n",
    "        os.makedirs(directory)\n",
    "        \n",
    "    with open('../data/match_' + str(id) + '/match_data_' + str(id) + '.json', 'w') as file:\n",
    "        json.dump(data, file, indent=4, sort_keys=True)"
   ]
  },
  {
   "cell_type": "markdown",
   "metadata": {},
   "source": [
    "Get Roster Data"
   ]
  },
  {
   "cell_type": "code",
   "execution_count": 4,
   "metadata": {},
   "outputs": [],
   "source": [
    "for id in matches['id']:\n",
    "    url = 'https://api.sentiocloud.net/v2/Rosters/' + str(id)\n",
    "    data = requests.get(url=url, headers=headers)\n",
    "    data = json.loads(data.content)\n",
    "    \n",
    "    directory = '../data/match_' + str(id)\n",
    "    \n",
    "    if not os.path.exists(directory):\n",
    "        os.makedirs(directory)\n",
    "        \n",
    "    with open('../data/match_' + str(id) + '/roster_data_' + str(id) + '.json', 'w') as file:\n",
    "        json.dump(data, file, indent=4, sort_keys=True)"
   ]
  },
  {
   "cell_type": "markdown",
   "metadata": {},
   "source": [
    "Get Players Data"
   ]
  },
  {
   "cell_type": "code",
   "execution_count": 6,
   "metadata": {},
   "outputs": [],
   "source": [
    "for id in matches['id']:\n",
    "    url = 'https://api.sentiocloud.net/v2/CurrData/' + str(id) + '/Players'\n",
    "    data = requests.get(url=url, headers=headers)\n",
    "    data = json.loads(data.content)\n",
    "    \n",
    "    directory = '../data/match_' + str(id)\n",
    "    \n",
    "    if not os.path.exists(directory):\n",
    "        os.makedirs(directory)\n",
    "        \n",
    "    with open('../data/match_' + str(id) + '/players_data_' + str(id) + '.json', 'w') as file:\n",
    "        json.dump(data, file, indent=4, sort_keys=True)"
   ]
  },
  {
   "cell_type": "markdown",
   "metadata": {},
   "source": [
    "Get Tagger Data"
   ]
  },
  {
   "cell_type": "code",
   "execution_count": 7,
   "metadata": {},
   "outputs": [],
   "source": [
    "for id in matches['id']:\n",
    "    url = 'https://api.sentiocloud.net/v2/TaggerData/' + str(id)\n",
    "    data = requests.get(url=url, headers=headers)\n",
    "    data = json.loads(data.content)\n",
    "    \n",
    "    directory = '../data/match_' + str(id)\n",
    "    \n",
    "    if not os.path.exists(directory):\n",
    "        os.makedirs(directory)\n",
    "        \n",
    "    with open('../data/match_' + str(id) + '/tagger_data_' + str(id) + '.json', 'w') as file:\n",
    "        json.dump(data, file, indent=4, sort_keys=True)"
   ]
  },
  {
   "cell_type": "markdown",
   "metadata": {},
   "source": [
    "Get Heatmap Position Data"
   ]
  },
  {
   "cell_type": "code",
   "execution_count": 18,
   "metadata": {},
   "outputs": [],
   "source": [
    "for id in matches['id']:\n",
    "    url = 'https://api.sentiocloud.net/v2/HeatMapData/' + str(id)\n",
    "    data = requests.get(url=url, headers=headers)\n",
    "    data = json.loads(data.content)\n",
    "    \n",
    "    directory = '../data/match_' + str(id)\n",
    "    \n",
    "    if not os.path.exists(directory):\n",
    "        os.makedirs(directory)\n",
    "        \n",
    "    with open('../data/match_' + str(id) + '/heatmap_data_' + str(id) + '.json', 'w') as file:\n",
    "        json.dump(data, file, indent=4, sort_keys=True)"
   ]
  },
  {
   "cell_type": "code",
   "execution_count": null,
   "metadata": {
    "collapsed": false
   },
   "outputs": [],
   "source": [
    ""
   ]
  }
 ],
 "metadata": {
  "kernelspec": {
   "display_name": "Python 2",
   "language": "python",
   "name": "python2"
  },
  "language_info": {
   "codemirror_mode": {
    "name": "ipython",
    "version": 2
   },
   "file_extension": ".py",
   "mimetype": "text/x-python",
   "name": "python",
   "nbconvert_exporter": "python",
   "pygments_lexer": "ipython2",
   "version": "2.7.6"
  }
 },
 "nbformat": 4,
 "nbformat_minor": 0
}
