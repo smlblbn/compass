{
 "cells": [
  {
   "cell_type": "code",
   "execution_count": 9,
   "metadata": {
    "collapsed": true
   },
   "outputs": [],
   "source": [
    "import json\n",
    "import pandas as pd\n",
    "import numpy as np\n",
    "import matplotlib.pyplot as plt\n",
    "\n",
    "from keras.models import Sequential\n",
    "from keras.layers import Dense, LSTM, Dropout, BatchNormalization\n",
    "from keras.preprocessing import sequence\n",
    "from keras.preprocessing.sequence import TimeseriesGenerator\n",
    "from keras import regularizers\n",
    "\n",
    "from keras.optimizers import RMSprop as rm\n",
    "from keras.optimizers import Adagrad as ada\n",
    "from keras.optimizers import SGD as sgd\n",
    "\n",
    "with open('../data/general/matches_2017_2018_v1.json') as matches_json:\n",
    "    matches = pd.read_json(matches_json)"
   ]
  },
  {
   "cell_type": "markdown",
   "metadata": {},
   "source": [
    "Team ball possesion test arrays"
   ]
  },
  {
   "cell_type": "code",
   "execution_count": 13,
   "metadata": {},
   "outputs": [],
   "source": [
    "id = 60561\n",
    "x_train_np = np.load('../data/match_' + str(id) + '/x_data.npy')\n",
    "y_train_np = np.load('../data/match_' + str(id) + '/y_team_data.npy')\n",
    "\n",
    "x_train_np = np.expand_dims(x_train_np, axis=0)\n",
    "y_train_np = np.expand_dims(y_train_np, axis=0)\n",
    "\n",
    "id = 60562\n",
    "x_valid_np = np.load('../data/match_' + str(id) + '/x_data.npy')\n",
    "y_valid_np = np.load('../data/match_' + str(id) + '/y_team_data.npy')\n",
    "\n",
    "x_valid_np = np.expand_dims(x_valid_np, axis=0)\n",
    "y_valid_np = np.expand_dims(y_valid_np, axis=0)\n",
    "\n",
    "id = 60563\n",
    "x_test_np = np.load('../data/match_' + str(id) + '/x_data.npy')\n",
    "y_test_np = np.load('../data/match_' + str(id) + '/y_team_data.npy')\n",
    "\n",
    "x_test_np = np.expand_dims(x_test_np, axis=0)\n",
    "y_test_np = np.expand_dims(y_test_np, axis=0)"
   ]
  },
  {
   "cell_type": "markdown",
   "metadata": {},
   "source": [
    "Individual player ball possesion test arrays"
   ]
  },
  {
   "cell_type": "code",
   "execution_count": 56,
   "metadata": {},
   "outputs": [],
   "source": [
    "id = 60561\n",
    "x_train_np = np.load('../data/match_' + str(id) + '/x_data.npy')\n",
    "y_train_np = np.load('../data/match_' + str(id) + '/y_player_data.npy')\n",
    "\n",
    "x_train_np = np.expand_dims(x_train_np, axis=0)\n",
    "y_train_np = np.expand_dims(y_train_np, axis=0)\n",
    "\n",
    "id = 60562\n",
    "x_valid_np = np.load('../data/match_' + str(id) + '/x_data.npy')\n",
    "y_valid_np = np.load('../data/match_' + str(id) + '/y_player_data.npy')\n",
    "\n",
    "x_valid_np = np.expand_dims(x_valid_np, axis=0)\n",
    "y_valid_np = np.expand_dims(y_valid_np, axis=0)"
   ]
  },
  {
   "cell_type": "markdown",
   "metadata": {},
   "source": [
    "All match (304) arrays (304, ,)"
   ]
  },
  {
   "cell_type": "code",
   "execution_count": null,
   "metadata": {},
   "outputs": [],
   "source": [
    "x_data_all = np.ndarray(shape=(len(matches['id']), data_height, data_width))\n",
    "y_team_data_all = np.ndarray(shape=(len(matches['id']), data_height, label_team_width))\n",
    "y_player_data_all = np.ndarray(shape=(len(matches['id']), data_height, label_player_width))\n",
    "y_pass_data_all = np.ndarray(shape=(len(matches['id']), data_height, label_pass_width))\n",
    "\n",
    "idx = 0\n",
    "for id in matches['id']:\n",
    "    x_data_all[idx] = np.load('../data/match_' + str(id) + '/x_data.npy')\n",
    "    y_team_data_all[idx] = np.load('../data/match_' + str(id) + '/y_team_data.npy')\n",
    "    y_player_data_all[idx] = np.load('../data/match_' + str(id) + '/y_player_data.npy')\n",
    "    y_pass_data_all[idx] = np.load('../data/match_' + str(id) + '/y_player_data.npy')\n",
    "    idx +=1"
   ]
  },
  {
   "cell_type": "code",
   "execution_count": 8,
   "metadata": {},
   "outputs": [
    {
     "name": "stdout",
     "output_type": "stream",
     "text": [
      "(1, 100, 87)\n(1, 100, 87)\n"
     ]
    }
   ],
   "source": [
    "max_review_length = 100\n",
    "\n",
    "x_train_np = sequence.pad_sequences(x_train_np, maxlen=max_review_length)\n",
    "x_valid_np = sequence.pad_sequences(x_valid_np, maxlen=max_review_length)\n",
    "\n",
    "print(x_train_np.shape)\n",
    "print(x_valid_np.shape)"
   ]
  },
  {
   "cell_type": "code",
   "execution_count": 37,
   "metadata": {
    "collapsed": false
   },
   "outputs": [
    {
     "name": "stdout",
     "output_type": "stream",
     "text": [
      "Train on 1 samples, validate on 1 samples\nEpoch 1/100\n"
     ]
    },
    {
     "name": "stdout",
     "output_type": "stream",
     "text": [
      " - 19s - loss: 2.7496 - acc: 0.3210 - val_loss: 2.7611 - val_acc: 0.3197\n"
     ]
    },
    {
     "name": "stdout",
     "output_type": "stream",
     "text": [
      "Epoch 2/100\n"
     ]
    },
    {
     "name": "stdout",
     "output_type": "stream",
     "text": [
      " - 17s - loss: 2.7336 - acc: 0.3590 - val_loss: 2.7485 - val_acc: 0.3453\n"
     ]
    },
    {
     "name": "stdout",
     "output_type": "stream",
     "text": [
      "Epoch 3/100\n"
     ]
    },
    {
     "name": "stdout",
     "output_type": "stream",
     "text": [
      " - 16s - loss: 2.7127 - acc: 0.3985 - val_loss: 2.7338 - val_acc: 0.4302\n"
     ]
    },
    {
     "name": "stdout",
     "output_type": "stream",
     "text": [
      "Epoch 4/100\n"
     ]
    },
    {
     "name": "stdout",
     "output_type": "stream",
     "text": [
      " - 16s - loss: 2.6888 - acc: 0.4557 - val_loss: 2.7180 - val_acc: 0.4580\n"
     ]
    },
    {
     "name": "stdout",
     "output_type": "stream",
     "text": [
      "Epoch 5/100\n"
     ]
    },
    {
     "name": "stdout",
     "output_type": "stream",
     "text": [
      " - 16s - loss: 2.6636 - acc: 0.5062 - val_loss: 2.7021 - val_acc: 0.4848\n"
     ]
    },
    {
     "name": "stdout",
     "output_type": "stream",
     "text": [
      "Epoch 6/100\n"
     ]
    },
    {
     "name": "stdout",
     "output_type": "stream",
     "text": [
      " - 16s - loss: 2.6385 - acc: 0.5868 - val_loss: 2.6866 - val_acc: 0.5067\n"
     ]
    },
    {
     "name": "stdout",
     "output_type": "stream",
     "text": [
      "Epoch 7/100\n"
     ]
    },
    {
     "name": "stdout",
     "output_type": "stream",
     "text": [
      " - 16s - loss: 2.6146 - acc: 0.6133 - val_loss: 2.6721 - val_acc: 0.5203\n"
     ]
    },
    {
     "name": "stdout",
     "output_type": "stream",
     "text": [
      "Epoch 8/100\n"
     ]
    },
    {
     "name": "stdout",
     "output_type": "stream",
     "text": [
      " - 18s - loss: 2.5925 - acc: 0.6258 - val_loss: 2.6586 - val_acc: 0.5287\n"
     ]
    },
    {
     "name": "stdout",
     "output_type": "stream",
     "text": [
      "Epoch 9/100\n"
     ]
    },
    {
     "name": "stdout",
     "output_type": "stream",
     "text": [
      " - 17s - loss: 2.5722 - acc: 0.6373 - val_loss: 2.6465 - val_acc: 0.5347\n"
     ]
    },
    {
     "name": "stdout",
     "output_type": "stream",
     "text": [
      "Epoch 10/100\n"
     ]
    },
    {
     "name": "stdout",
     "output_type": "stream",
     "text": [
      " - 17s - loss: 2.5541 - acc: 0.6470 - val_loss: 2.6357 - val_acc: 0.5358\n"
     ]
    },
    {
     "name": "stdout",
     "output_type": "stream",
     "text": [
      "Epoch 11/100\n"
     ]
    },
    {
     "name": "stdout",
     "output_type": "stream",
     "text": [
      " - 17s - loss: 2.5378 - acc: 0.6563 - val_loss: 2.6261 - val_acc: 0.5363\n"
     ]
    },
    {
     "name": "stdout",
     "output_type": "stream",
     "text": [
      "Epoch 12/100\n"
     ]
    },
    {
     "name": "stdout",
     "output_type": "stream",
     "text": [
      " - 18s - loss: 2.5233 - acc: 0.6602 - val_loss: 2.6177 - val_acc: 0.5410\n"
     ]
    },
    {
     "name": "stdout",
     "output_type": "stream",
     "text": [
      "Epoch 13/100\n"
     ]
    },
    {
     "name": "stdout",
     "output_type": "stream",
     "text": [
      " - 16s - loss: 2.5102 - acc: 0.6627 - val_loss: 2.6103 - val_acc: 0.5422\n"
     ]
    },
    {
     "name": "stdout",
     "output_type": "stream",
     "text": [
      "Epoch 14/100\n"
     ]
    },
    {
     "name": "stdout",
     "output_type": "stream",
     "text": [
      " - 19s - loss: 2.4985 - acc: 0.6673 - val_loss: 2.6039 - val_acc: 0.5437\n"
     ]
    },
    {
     "name": "stdout",
     "output_type": "stream",
     "text": [
      "Epoch 15/100\n"
     ]
    },
    {
     "name": "stdout",
     "output_type": "stream",
     "text": [
      " - 17s - loss: 2.4878 - acc: 0.6713 - val_loss: 2.5982 - val_acc: 0.5477\n"
     ]
    },
    {
     "name": "stdout",
     "output_type": "stream",
     "text": [
      "Epoch 16/100\n"
     ]
    },
    {
     "name": "stdout",
     "output_type": "stream",
     "text": [
      " - 16s - loss: 2.4781 - acc: 0.6747 - val_loss: 2.5932 - val_acc: 0.5512\n"
     ]
    },
    {
     "name": "stdout",
     "output_type": "stream",
     "text": [
      "Epoch 17/100\n"
     ]
    },
    {
     "name": "stdout",
     "output_type": "stream",
     "text": [
      " - 16s - loss: 2.4690 - acc: 0.6798 - val_loss: 2.5887 - val_acc: 0.5517\n"
     ]
    },
    {
     "name": "stdout",
     "output_type": "stream",
     "text": [
      "Epoch 18/100\n"
     ]
    },
    {
     "name": "stdout",
     "output_type": "stream",
     "text": [
      " - 16s - loss: 2.4606 - acc: 0.6812 - val_loss: 2.5847 - val_acc: 0.5532\n"
     ]
    },
    {
     "name": "stdout",
     "output_type": "stream",
     "text": [
      "Epoch 19/100\n"
     ]
    },
    {
     "name": "stdout",
     "output_type": "stream",
     "text": [
      " - 17s - loss: 2.4526 - acc: 0.6828 - val_loss: 2.5811 - val_acc: 0.5530\n"
     ]
    },
    {
     "name": "stdout",
     "output_type": "stream",
     "text": [
      "Epoch 20/100\n"
     ]
    },
    {
     "name": "stdout",
     "output_type": "stream",
     "text": [
      " - 16s - loss: 2.4451 - acc: 0.6865 - val_loss: 2.5778 - val_acc: 0.5552\n"
     ]
    },
    {
     "name": "stdout",
     "output_type": "stream",
     "text": [
      "Epoch 21/100\n"
     ]
    },
    {
     "name": "stdout",
     "output_type": "stream",
     "text": [
      " - 16s - loss: 2.4378 - acc: 0.6878 - val_loss: 2.5747 - val_acc: 0.5548\n"
     ]
    },
    {
     "name": "stdout",
     "output_type": "stream",
     "text": [
      "Epoch 22/100\n"
     ]
    },
    {
     "name": "stdout",
     "output_type": "stream",
     "text": [
      " - 17s - loss: 2.4308 - acc: 0.6902 - val_loss: 2.5718 - val_acc: 0.5547\n"
     ]
    },
    {
     "name": "stdout",
     "output_type": "stream",
     "text": [
      "Epoch 23/100\n"
     ]
    },
    {
     "name": "stdout",
     "output_type": "stream",
     "text": [
      " - 17s - loss: 2.4240 - acc: 0.6920 - val_loss: 2.5690 - val_acc: 0.5555\n"
     ]
    },
    {
     "name": "stdout",
     "output_type": "stream",
     "text": [
      "Epoch 24/100\n"
     ]
    },
    {
     "name": "stdout",
     "output_type": "stream",
     "text": [
      " - 18s - loss: 2.4173 - acc: 0.6953 - val_loss: 2.5664 - val_acc: 0.5557\n"
     ]
    },
    {
     "name": "stdout",
     "output_type": "stream",
     "text": [
      "Epoch 25/100\n"
     ]
    },
    {
     "name": "stdout",
     "output_type": "stream",
     "text": [
      " - 18s - loss: 2.4108 - acc: 0.6977 - val_loss: 2.5639 - val_acc: 0.5532\n"
     ]
    },
    {
     "name": "stdout",
     "output_type": "stream",
     "text": [
      "Epoch 26/100\n"
     ]
    },
    {
     "name": "stdout",
     "output_type": "stream",
     "text": [
      " - 16s - loss: 2.4044 - acc: 0.7012 - val_loss: 2.5614 - val_acc: 0.5530\n"
     ]
    },
    {
     "name": "stdout",
     "output_type": "stream",
     "text": [
      "Epoch 27/100\n"
     ]
    },
    {
     "name": "stdout",
     "output_type": "stream",
     "text": [
      " - 19s - loss: 2.3980 - acc: 0.7043 - val_loss: 2.5590 - val_acc: 0.5528\n"
     ]
    },
    {
     "name": "stdout",
     "output_type": "stream",
     "text": [
      "Epoch 28/100\n"
     ]
    },
    {
     "name": "stdout",
     "output_type": "stream",
     "text": [
      " - 17s - loss: 2.3917 - acc: 0.7060 - val_loss: 2.5566 - val_acc: 0.5520\n"
     ]
    },
    {
     "name": "stdout",
     "output_type": "stream",
     "text": [
      "Epoch 29/100\n"
     ]
    },
    {
     "name": "stdout",
     "output_type": "stream",
     "text": [
      " - 16s - loss: 2.3854 - acc: 0.7090 - val_loss: 2.5543 - val_acc: 0.5520\n"
     ]
    },
    {
     "name": "stdout",
     "output_type": "stream",
     "text": [
      "Epoch 30/100\n"
     ]
    },
    {
     "name": "stdout",
     "output_type": "stream",
     "text": [
      " - 16s - loss: 2.3792 - acc: 0.7107 - val_loss: 2.5520 - val_acc: 0.5507\n"
     ]
    },
    {
     "name": "stdout",
     "output_type": "stream",
     "text": [
      "Epoch 31/100\n"
     ]
    },
    {
     "name": "stdout",
     "output_type": "stream",
     "text": [
      " - 16s - loss: 2.3730 - acc: 0.7122 - val_loss: 2.5498 - val_acc: 0.5485\n"
     ]
    },
    {
     "name": "stdout",
     "output_type": "stream",
     "text": [
      "Epoch 32/100\n"
     ]
    },
    {
     "name": "stdout",
     "output_type": "stream",
     "text": [
      " - 16s - loss: 2.3668 - acc: 0.7127 - val_loss: 2.5476 - val_acc: 0.5487\n"
     ]
    },
    {
     "name": "stdout",
     "output_type": "stream",
     "text": [
      "Epoch 33/100\n"
     ]
    },
    {
     "name": "stdout",
     "output_type": "stream",
     "text": [
      " - 16s - loss: 2.3607 - acc: 0.7150 - val_loss: 2.5454 - val_acc: 0.5487\n"
     ]
    },
    {
     "name": "stdout",
     "output_type": "stream",
     "text": [
      "Epoch 34/100\n"
     ]
    },
    {
     "name": "stdout",
     "output_type": "stream",
     "text": [
      " - 17s - loss: 2.3547 - acc: 0.7180 - val_loss: 2.5432 - val_acc: 0.5473\n"
     ]
    },
    {
     "name": "stdout",
     "output_type": "stream",
     "text": [
      "Epoch 35/100\n"
     ]
    },
    {
     "name": "stdout",
     "output_type": "stream",
     "text": [
      " - 17s - loss: 2.3487 - acc: 0.7207 - val_loss: 2.5410 - val_acc: 0.5465\n"
     ]
    },
    {
     "name": "stdout",
     "output_type": "stream",
     "text": [
      "Epoch 36/100\n"
     ]
    },
    {
     "name": "stdout",
     "output_type": "stream",
     "text": [
      " - 18s - loss: 2.3428 - acc: 0.7218 - val_loss: 2.5389 - val_acc: 0.5475\n"
     ]
    },
    {
     "name": "stdout",
     "output_type": "stream",
     "text": [
      "Epoch 37/100\n"
     ]
    },
    {
     "name": "stdout",
     "output_type": "stream",
     "text": [
      " - 16s - loss: 2.3369 - acc: 0.7243 - val_loss: 2.5368 - val_acc: 0.5467\n"
     ]
    },
    {
     "name": "stdout",
     "output_type": "stream",
     "text": [
      "Epoch 38/100\n"
     ]
    },
    {
     "name": "stdout",
     "output_type": "stream",
     "text": [
      " - 18s - loss: 2.3311 - acc: 0.7262 - val_loss: 2.5348 - val_acc: 0.5452\n"
     ]
    },
    {
     "name": "stdout",
     "output_type": "stream",
     "text": [
      "Epoch 39/100\n"
     ]
    },
    {
     "name": "stdout",
     "output_type": "stream",
     "text": [
      " - 17s - loss: 2.3254 - acc: 0.7288 - val_loss: 2.5328 - val_acc: 0.5455\n"
     ]
    },
    {
     "name": "stdout",
     "output_type": "stream",
     "text": [
      "Epoch 40/100\n"
     ]
    },
    {
     "name": "stdout",
     "output_type": "stream",
     "text": [
      " - 16s - loss: 2.3197 - acc: 0.7298 - val_loss: 2.5308 - val_acc: 0.5448\n"
     ]
    },
    {
     "name": "stdout",
     "output_type": "stream",
     "text": [
      "Epoch 41/100\n"
     ]
    },
    {
     "name": "stdout",
     "output_type": "stream",
     "text": [
      " - 16s - loss: 2.3141 - acc: 0.7315 - val_loss: 2.5288 - val_acc: 0.5450\n"
     ]
    },
    {
     "name": "stdout",
     "output_type": "stream",
     "text": [
      "Epoch 42/100\n"
     ]
    },
    {
     "name": "stdout",
     "output_type": "stream",
     "text": [
      " - 16s - loss: 2.3086 - acc: 0.7335 - val_loss: 2.5268 - val_acc: 0.5438\n"
     ]
    },
    {
     "name": "stdout",
     "output_type": "stream",
     "text": [
      "Epoch 43/100\n"
     ]
    },
    {
     "name": "stdout",
     "output_type": "stream",
     "text": [
      " - 18s - loss: 2.3032 - acc: 0.7350 - val_loss: 2.5249 - val_acc: 0.5417\n"
     ]
    },
    {
     "name": "stdout",
     "output_type": "stream",
     "text": [
      "Epoch 44/100\n"
     ]
    },
    {
     "name": "stdout",
     "output_type": "stream",
     "text": [
      " - 17s - loss: 2.2978 - acc: 0.7372 - val_loss: 2.5230 - val_acc: 0.5413\n"
     ]
    },
    {
     "name": "stdout",
     "output_type": "stream",
     "text": [
      "Epoch 45/100\n"
     ]
    },
    {
     "name": "stdout",
     "output_type": "stream",
     "text": [
      " - 16s - loss: 2.2925 - acc: 0.7382 - val_loss: 2.5210 - val_acc: 0.5403\n"
     ]
    },
    {
     "name": "stdout",
     "output_type": "stream",
     "text": [
      "Epoch 46/100\n"
     ]
    },
    {
     "name": "stdout",
     "output_type": "stream",
     "text": [
      " - 16s - loss: 2.2872 - acc: 0.7408 - val_loss: 2.5191 - val_acc: 0.5395\n"
     ]
    },
    {
     "name": "stdout",
     "output_type": "stream",
     "text": [
      "Epoch 47/100\n"
     ]
    },
    {
     "name": "stdout",
     "output_type": "stream",
     "text": [
      " - 16s - loss: 2.2820 - acc: 0.7420 - val_loss: 2.5172 - val_acc: 0.5387\n"
     ]
    },
    {
     "name": "stdout",
     "output_type": "stream",
     "text": [
      "Epoch 48/100\n"
     ]
    },
    {
     "name": "stdout",
     "output_type": "stream",
     "text": [
      " - 16s - loss: 2.2769 - acc: 0.7437 - val_loss: 2.5153 - val_acc: 0.5393\n"
     ]
    },
    {
     "name": "stdout",
     "output_type": "stream",
     "text": [
      "Epoch 49/100\n"
     ]
    },
    {
     "name": "stdout",
     "output_type": "stream",
     "text": [
      " - 17s - loss: 2.2718 - acc: 0.7450 - val_loss: 2.5134 - val_acc: 0.5385\n"
     ]
    },
    {
     "name": "stdout",
     "output_type": "stream",
     "text": [
      "Epoch 50/100\n"
     ]
    },
    {
     "name": "stdout",
     "output_type": "stream",
     "text": [
      " - 17s - loss: 2.2667 - acc: 0.7457 - val_loss: 2.5115 - val_acc: 0.5368\n"
     ]
    },
    {
     "name": "stdout",
     "output_type": "stream",
     "text": [
      "Epoch 51/100\n"
     ]
    },
    {
     "name": "stdout",
     "output_type": "stream",
     "text": [
      " - 17s - loss: 2.2617 - acc: 0.7478 - val_loss: 2.5096 - val_acc: 0.5363\n"
     ]
    },
    {
     "name": "stdout",
     "output_type": "stream",
     "text": [
      "Epoch 52/100\n"
     ]
    },
    {
     "name": "stdout",
     "output_type": "stream",
     "text": [
      " - 16s - loss: 2.2568 - acc: 0.7480 - val_loss: 2.5077 - val_acc: 0.5365\n"
     ]
    },
    {
     "name": "stdout",
     "output_type": "stream",
     "text": [
      "Epoch 53/100\n"
     ]
    },
    {
     "name": "stdout",
     "output_type": "stream",
     "text": [
      " - 16s - loss: 2.2519 - acc: 0.7493 - val_loss: 2.5058 - val_acc: 0.5355\n"
     ]
    },
    {
     "name": "stdout",
     "output_type": "stream",
     "text": [
      "Epoch 54/100\n"
     ]
    },
    {
     "name": "stdout",
     "output_type": "stream",
     "text": [
      " - 17s - loss: 2.2470 - acc: 0.7493 - val_loss: 2.5039 - val_acc: 0.5365\n"
     ]
    },
    {
     "name": "stdout",
     "output_type": "stream",
     "text": [
      "Epoch 55/100\n"
     ]
    },
    {
     "name": "stdout",
     "output_type": "stream",
     "text": [
      " - 17s - loss: 2.2421 - acc: 0.7500 - val_loss: 2.5020 - val_acc: 0.5365\n"
     ]
    },
    {
     "name": "stdout",
     "output_type": "stream",
     "text": [
      "Epoch 56/100\n"
     ]
    },
    {
     "name": "stdout",
     "output_type": "stream",
     "text": [
      " - 17s - loss: 2.2374 - acc: 0.7510 - val_loss: 2.5000 - val_acc: 0.5360\n"
     ]
    },
    {
     "name": "stdout",
     "output_type": "stream",
     "text": [
      "Epoch 57/100\n"
     ]
    },
    {
     "name": "stdout",
     "output_type": "stream",
     "text": [
      " - 17s - loss: 2.2326 - acc: 0.7522 - val_loss: 2.4981 - val_acc: 0.5355\n"
     ]
    },
    {
     "name": "stdout",
     "output_type": "stream",
     "text": [
      "Epoch 58/100\n"
     ]
    },
    {
     "name": "stdout",
     "output_type": "stream",
     "text": [
      " - 16s - loss: 2.2279 - acc: 0.7527 - val_loss: 2.4962 - val_acc: 0.5353\n"
     ]
    },
    {
     "name": "stdout",
     "output_type": "stream",
     "text": [
      "Epoch 59/100\n"
     ]
    },
    {
     "name": "stdout",
     "output_type": "stream",
     "text": [
      " - 16s - loss: 2.2232 - acc: 0.7528 - val_loss: 2.4943 - val_acc: 0.5352\n"
     ]
    },
    {
     "name": "stdout",
     "output_type": "stream",
     "text": [
      "Epoch 60/100\n"
     ]
    },
    {
     "name": "stdout",
     "output_type": "stream",
     "text": [
      " - 16s - loss: 2.2185 - acc: 0.7537 - val_loss: 2.4924 - val_acc: 0.5345\n"
     ]
    },
    {
     "name": "stdout",
     "output_type": "stream",
     "text": [
      "Epoch 61/100\n"
     ]
    },
    {
     "name": "stdout",
     "output_type": "stream",
     "text": [
      " - 16s - loss: 2.2139 - acc: 0.7555 - val_loss: 2.4904 - val_acc: 0.5337\n"
     ]
    },
    {
     "name": "stdout",
     "output_type": "stream",
     "text": [
      "Epoch 62/100\n"
     ]
    },
    {
     "name": "stdout",
     "output_type": "stream",
     "text": [
      " - 16s - loss: 2.2093 - acc: 0.7552 - val_loss: 2.4885 - val_acc: 0.5328\n"
     ]
    },
    {
     "name": "stdout",
     "output_type": "stream",
     "text": [
      "Epoch 63/100\n"
     ]
    },
    {
     "name": "stdout",
     "output_type": "stream",
     "text": [
      " - 16s - loss: 2.2047 - acc: 0.7562 - val_loss: 2.4866 - val_acc: 0.5320\n"
     ]
    },
    {
     "name": "stdout",
     "output_type": "stream",
     "text": [
      "Epoch 64/100\n"
     ]
    },
    {
     "name": "stdout",
     "output_type": "stream",
     "text": [
      " - 16s - loss: 2.2002 - acc: 0.7567 - val_loss: 2.4847 - val_acc: 0.5318\n"
     ]
    },
    {
     "name": "stdout",
     "output_type": "stream",
     "text": [
      "Epoch 65/100\n"
     ]
    },
    {
     "name": "stdout",
     "output_type": "stream",
     "text": [
      " - 16s - loss: 2.1956 - acc: 0.7572 - val_loss: 2.4828 - val_acc: 0.5317\n"
     ]
    },
    {
     "name": "stdout",
     "output_type": "stream",
     "text": [
      "Epoch 66/100\n"
     ]
    },
    {
     "name": "stdout",
     "output_type": "stream",
     "text": [
      " - 16s - loss: 2.1912 - acc: 0.7573 - val_loss: 2.4810 - val_acc: 0.5322\n"
     ]
    },
    {
     "name": "stdout",
     "output_type": "stream",
     "text": [
      "Epoch 67/100\n"
     ]
    },
    {
     "name": "stdout",
     "output_type": "stream",
     "text": [
      " - 17s - loss: 2.1867 - acc: 0.7578 - val_loss: 2.4791 - val_acc: 0.5328\n"
     ]
    },
    {
     "name": "stdout",
     "output_type": "stream",
     "text": [
      "Epoch 68/100\n"
     ]
    },
    {
     "name": "stdout",
     "output_type": "stream",
     "text": [
      " - 16s - loss: 2.1823 - acc: 0.7582 - val_loss: 2.4772 - val_acc: 0.5317\n"
     ]
    },
    {
     "name": "stdout",
     "output_type": "stream",
     "text": [
      "Epoch 69/100\n"
     ]
    },
    {
     "name": "stdout",
     "output_type": "stream",
     "text": [
      " - 16s - loss: 2.1779 - acc: 0.7588 - val_loss: 2.4754 - val_acc: 0.5318\n"
     ]
    },
    {
     "name": "stdout",
     "output_type": "stream",
     "text": [
      "Epoch 70/100\n"
     ]
    },
    {
     "name": "stdout",
     "output_type": "stream",
     "text": [
      " - 16s - loss: 2.1735 - acc: 0.7590 - val_loss: 2.4736 - val_acc: 0.5318\n"
     ]
    },
    {
     "name": "stdout",
     "output_type": "stream",
     "text": [
      "Epoch 71/100\n"
     ]
    },
    {
     "name": "stdout",
     "output_type": "stream",
     "text": [
      " - 16s - loss: 2.1691 - acc: 0.7592 - val_loss: 2.4718 - val_acc: 0.5310\n"
     ]
    },
    {
     "name": "stdout",
     "output_type": "stream",
     "text": [
      "Epoch 72/100\n"
     ]
    },
    {
     "name": "stdout",
     "output_type": "stream",
     "text": [
      " - 17s - loss: 2.1648 - acc: 0.7588 - val_loss: 2.4700 - val_acc: 0.5315\n"
     ]
    },
    {
     "name": "stdout",
     "output_type": "stream",
     "text": [
      "Epoch 73/100\n"
     ]
    },
    {
     "name": "stdout",
     "output_type": "stream",
     "text": [
      " - 16s - loss: 2.1605 - acc: 0.7592 - val_loss: 2.4682 - val_acc: 0.5312\n"
     ]
    },
    {
     "name": "stdout",
     "output_type": "stream",
     "text": [
      "Epoch 74/100\n"
     ]
    },
    {
     "name": "stdout",
     "output_type": "stream",
     "text": [
      " - 17s - loss: 2.1562 - acc: 0.7595 - val_loss: 2.4665 - val_acc: 0.5300\n"
     ]
    },
    {
     "name": "stdout",
     "output_type": "stream",
     "text": [
      "Epoch 75/100\n"
     ]
    },
    {
     "name": "stdout",
     "output_type": "stream",
     "text": [
      " - 17s - loss: 2.1520 - acc: 0.7595 - val_loss: 2.4647 - val_acc: 0.5300\n"
     ]
    },
    {
     "name": "stdout",
     "output_type": "stream",
     "text": [
      "Epoch 76/100\n"
     ]
    },
    {
     "name": "stdout",
     "output_type": "stream",
     "text": [
      " - 17s - loss: 2.1477 - acc: 0.7597 - val_loss: 2.4630 - val_acc: 0.5297\n"
     ]
    },
    {
     "name": "stdout",
     "output_type": "stream",
     "text": [
      "Epoch 77/100\n"
     ]
    },
    {
     "name": "stdout",
     "output_type": "stream",
     "text": [
      " - 17s - loss: 2.1435 - acc: 0.7597 - val_loss: 2.4613 - val_acc: 0.5287\n"
     ]
    },
    {
     "name": "stdout",
     "output_type": "stream",
     "text": [
      "Epoch 78/100\n"
     ]
    },
    {
     "name": "stdout",
     "output_type": "stream",
     "text": [
      " - 16s - loss: 2.1393 - acc: 0.7600 - val_loss: 2.4596 - val_acc: 0.5283\n"
     ]
    },
    {
     "name": "stdout",
     "output_type": "stream",
     "text": [
      "Epoch 79/100\n"
     ]
    },
    {
     "name": "stdout",
     "output_type": "stream",
     "text": [
      " - 17s - loss: 2.1351 - acc: 0.7597 - val_loss: 2.4580 - val_acc: 0.5282\n"
     ]
    },
    {
     "name": "stdout",
     "output_type": "stream",
     "text": [
      "Epoch 80/100\n"
     ]
    },
    {
     "name": "stdout",
     "output_type": "stream",
     "text": [
      " - 16s - loss: 2.1310 - acc: 0.7602 - val_loss: 2.4563 - val_acc: 0.5285\n"
     ]
    },
    {
     "name": "stdout",
     "output_type": "stream",
     "text": [
      "Epoch 81/100\n"
     ]
    },
    {
     "name": "stdout",
     "output_type": "stream",
     "text": [
      " - 17s - loss: 2.1269 - acc: 0.7607 - val_loss: 2.4547 - val_acc: 0.5277\n"
     ]
    },
    {
     "name": "stdout",
     "output_type": "stream",
     "text": [
      "Epoch 82/100\n"
     ]
    },
    {
     "name": "stdout",
     "output_type": "stream",
     "text": [
      " - 16s - loss: 2.1227 - acc: 0.7605 - val_loss: 2.4531 - val_acc: 0.5280\n"
     ]
    },
    {
     "name": "stdout",
     "output_type": "stream",
     "text": [
      "Epoch 83/100\n"
     ]
    },
    {
     "name": "stdout",
     "output_type": "stream",
     "text": [
      " - 16s - loss: 2.1187 - acc: 0.7603 - val_loss: 2.4515 - val_acc: 0.5278\n"
     ]
    },
    {
     "name": "stdout",
     "output_type": "stream",
     "text": [
      "Epoch 84/100\n"
     ]
    },
    {
     "name": "stdout",
     "output_type": "stream",
     "text": [
      " - 17s - loss: 2.1146 - acc: 0.7603 - val_loss: 2.4499 - val_acc: 0.5285\n"
     ]
    },
    {
     "name": "stdout",
     "output_type": "stream",
     "text": [
      "Epoch 85/100\n"
     ]
    },
    {
     "name": "stdout",
     "output_type": "stream",
     "text": [
      " - 16s - loss: 2.1105 - acc: 0.7607 - val_loss: 2.4483 - val_acc: 0.5283\n"
     ]
    },
    {
     "name": "stdout",
     "output_type": "stream",
     "text": [
      "Epoch 86/100\n"
     ]
    },
    {
     "name": "stdout",
     "output_type": "stream",
     "text": [
      " - 17s - loss: 2.1065 - acc: 0.7617 - val_loss: 2.4468 - val_acc: 0.5282\n"
     ]
    },
    {
     "name": "stdout",
     "output_type": "stream",
     "text": [
      "Epoch 87/100\n"
     ]
    },
    {
     "name": "stdout",
     "output_type": "stream",
     "text": [
      " - 17s - loss: 2.1025 - acc: 0.7620 - val_loss: 2.4452 - val_acc: 0.5283\n"
     ]
    },
    {
     "name": "stdout",
     "output_type": "stream",
     "text": [
      "Epoch 88/100\n"
     ]
    },
    {
     "name": "stdout",
     "output_type": "stream",
     "text": [
      " - 16s - loss: 2.0985 - acc: 0.7622 - val_loss: 2.4437 - val_acc: 0.5282\n"
     ]
    },
    {
     "name": "stdout",
     "output_type": "stream",
     "text": [
      "Epoch 89/100\n"
     ]
    },
    {
     "name": "stdout",
     "output_type": "stream",
     "text": [
      " - 17s - loss: 2.0945 - acc: 0.7623 - val_loss: 2.4422 - val_acc: 0.5285\n"
     ]
    },
    {
     "name": "stdout",
     "output_type": "stream",
     "text": [
      "Epoch 90/100\n"
     ]
    },
    {
     "name": "stdout",
     "output_type": "stream",
     "text": [
      " - 16s - loss: 2.0905 - acc: 0.7625 - val_loss: 2.4407 - val_acc: 0.5273\n"
     ]
    },
    {
     "name": "stdout",
     "output_type": "stream",
     "text": [
      "Epoch 91/100\n"
     ]
    },
    {
     "name": "stdout",
     "output_type": "stream",
     "text": [
      " - 16s - loss: 2.0866 - acc: 0.7630 - val_loss: 2.4392 - val_acc: 0.5268\n"
     ]
    },
    {
     "name": "stdout",
     "output_type": "stream",
     "text": [
      "Epoch 92/100\n"
     ]
    },
    {
     "name": "stdout",
     "output_type": "stream",
     "text": [
      " - 17s - loss: 2.0827 - acc: 0.7632 - val_loss: 2.4377 - val_acc: 0.5262\n"
     ]
    },
    {
     "name": "stdout",
     "output_type": "stream",
     "text": [
      "Epoch 93/100\n"
     ]
    },
    {
     "name": "stdout",
     "output_type": "stream",
     "text": [
      " - 16s - loss: 2.0787 - acc: 0.7633 - val_loss: 2.4362 - val_acc: 0.5260\n"
     ]
    },
    {
     "name": "stdout",
     "output_type": "stream",
     "text": [
      "Epoch 94/100\n"
     ]
    },
    {
     "name": "stdout",
     "output_type": "stream",
     "text": [
      " - 17s - loss: 2.0748 - acc: 0.7642 - val_loss: 2.4348 - val_acc: 0.5262\n"
     ]
    },
    {
     "name": "stdout",
     "output_type": "stream",
     "text": [
      "Epoch 95/100\n"
     ]
    },
    {
     "name": "stdout",
     "output_type": "stream",
     "text": [
      " - 17s - loss: 2.0710 - acc: 0.7647 - val_loss: 2.4333 - val_acc: 0.5258\n"
     ]
    },
    {
     "name": "stdout",
     "output_type": "stream",
     "text": [
      "Epoch 96/100\n"
     ]
    },
    {
     "name": "stdout",
     "output_type": "stream",
     "text": [
      " - 16s - loss: 2.0671 - acc: 0.7643 - val_loss: 2.4319 - val_acc: 0.5257\n"
     ]
    },
    {
     "name": "stdout",
     "output_type": "stream",
     "text": [
      "Epoch 97/100\n"
     ]
    },
    {
     "name": "stdout",
     "output_type": "stream",
     "text": [
      " - 17s - loss: 2.0632 - acc: 0.7648 - val_loss: 2.4305 - val_acc: 0.5252\n"
     ]
    },
    {
     "name": "stdout",
     "output_type": "stream",
     "text": [
      "Epoch 98/100\n"
     ]
    },
    {
     "name": "stdout",
     "output_type": "stream",
     "text": [
      " - 17s - loss: 2.0594 - acc: 0.7658 - val_loss: 2.4290 - val_acc: 0.5248\n"
     ]
    },
    {
     "name": "stdout",
     "output_type": "stream",
     "text": [
      "Epoch 99/100\n"
     ]
    },
    {
     "name": "stdout",
     "output_type": "stream",
     "text": [
      " - 18s - loss: 2.0556 - acc: 0.7667 - val_loss: 2.4276 - val_acc: 0.5248\n"
     ]
    },
    {
     "name": "stdout",
     "output_type": "stream",
     "text": [
      "Epoch 100/100\n"
     ]
    },
    {
     "name": "stdout",
     "output_type": "stream",
     "text": [
      " - 16s - loss: 2.0518 - acc: 0.7665 - val_loss: 2.4262 - val_acc: 0.5253\n"
     ]
    },
    {
     "name": "stdout",
     "output_type": "stream",
     "text": [
      "\r1/1 [==============================] - 3s 3s/step\n"
     ]
    },
    {
     "name": "stdout",
     "output_type": "stream",
     "text": [
      "['loss', 'acc']\n[2.465447425842285, 0.5049999952316284]\n"
     ]
    }
   ],
   "source": [
    "batch_size = 1\n",
    "epochs = 100\n",
    "hidden_dim = 1000\n",
    "timestep = 6000\n",
    "\n",
    "input_dim = 87\n",
    "output_dim = 3\n",
    "\n",
    "#input_dim = 87+29\n",
    "#output_dim = 29\n",
    "\n",
    "model = Sequential()\n",
    "model.add(LSTM(hidden_dim, \n",
    "               input_shape=(timestep, input_dim), \n",
    "               return_sequences=True,\n",
    "               #return_state=True,\n",
    "               kernel_regularizer=regularizers.l2(0.01)))\n",
    "#model.add(BatchNormalization())\n",
    "#model.add(Dropout(0.1))\n",
    "model.add(Dense(output_dim, activation='softmax'))\n",
    "\n",
    "#opt = rm()\n",
    "#opt = ada()\n",
    "opt = sgd(lr=0.005, momentum=0.9, decay=1e-5, nesterov=True)\n",
    "\n",
    "model.compile(loss='categorical_crossentropy',\n",
    "              optimizer=opt,\n",
    "              metrics=['accuracy'])\n",
    "\n",
    "history = model.fit(x=x_train_np, y=y_train_np, batch_size=batch_size, epochs=epochs, verbose=2, callbacks=None, \\\n",
    "                    validation_split=0.0, validation_data=(x_valid_np, y_valid_np), shuffle=False, class_weight=None, \\\n",
    "                    sample_weight=None, initial_epoch=0, steps_per_epoch=None, validation_steps=None)\n",
    "\n",
    "# make predictions\n",
    "score = model.evaluate(x_test_np, y_test_np, batch_size=batch_size)\n",
    "print(model.metrics_names)\n",
    "print(score)"
   ]
  },
  {
   "cell_type": "code",
   "execution_count": 39,
   "metadata": {},
   "outputs": [
    {
     "name": "stdout",
     "output_type": "stream",
     "text": [
      "dict_keys(['val_loss', 'val_acc', 'loss', 'acc'])\n"
     ]
    }
   ],
   "source": [
    "# list all data in history\n",
    "print(history.history.keys())\n",
    "\n",
    "# summarize history for accuracy\n",
    "plt.plot(history.history['acc'])\n",
    "plt.plot(history.history['val_acc'])\n",
    "plt.title('model accuracy')\n",
    "plt.ylabel('accuracy')\n",
    "plt.xlabel('epoch')\n",
    "plt.legend(['train', 'validation'], loc='lower right')\n",
    "plt.show()\n",
    "\n",
    "# summarize history for loss\n",
    "plt.plot(history.history['loss'])\n",
    "plt.plot(history.history['val_loss'])\n",
    "plt.title('model loss')\n",
    "plt.ylabel('loss')\n",
    "plt.xlabel('epoch')\n",
    "plt.legend(['train', 'validation'], loc='upper right')\n",
    "plt.show()\n",
    "\n",
    "#model.save('model/model.h5')\n",
    "#model.save_weights('model/model_weight.h5')\n",
    "#json_data = model.to_json()\n",
    "\n",
    "#with open('model/json_data.txt', 'w') as outfile:\n",
    "#    json.dump(json_data, outfile)"
   ]
  },
  {
   "cell_type": "code",
   "execution_count": 1,
   "metadata": {},
   "outputs": [],
   "source": []
  },
  {
   "cell_type": "code",
   "execution_count": null,
   "metadata": {},
   "outputs": [],
   "source": [
    ""
   ]
  }
 ],
 "metadata": {
  "kernelspec": {
   "display_name": "Python 2",
   "language": "python",
   "name": "python2"
  },
  "language_info": {
   "codemirror_mode": {
    "name": "ipython",
    "version": 2
   },
   "file_extension": ".py",
   "mimetype": "text/x-python",
   "name": "python",
   "nbconvert_exporter": "python",
   "pygments_lexer": "ipython2",
   "version": "2.7.6"
  }
 },
 "nbformat": 4,
 "nbformat_minor": 0
}
