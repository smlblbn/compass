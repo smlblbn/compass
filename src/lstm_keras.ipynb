{
 "cells": [
  {
   "cell_type": "code",
   "execution_count": 65,
   "metadata": {
    "collapsed": true
   },
   "outputs": [],
   "source": [
    "import json\n",
    "import pickle\n",
    "import pandas as pd\n",
    "import numpy as np\n",
    "import matplotlib.pyplot as plt\n",
    "\n",
    "from keras.models import Sequential\n",
    "from keras.layers import Dense, LSTM, Dropout, BatchNormalization\n",
    "from keras import regularizers\n",
    "from keras import initializers\n",
    "\n",
    "from keras.optimizers import RMSprop as rm\n",
    "from keras.optimizers import Adagrad as ada\n",
    "from keras.optimizers import SGD as sgd\n",
    "\n",
    "with open('../data/general/matches_2017_2018_v1.json') as matches_json:\n",
    "    matches = pd.read_json(matches_json)\n",
    "    \n",
    "data_height = 6000\n",
    "data_width = 87\n",
    "label_team_width = 3\n",
    "label_player_width = 29\n",
    "label_pass_width = 29\n",
    "\n",
    "mean = 0\n",
    "std = 0\n",
    "min_values = 0\n",
    "max_values = 0\n",
    "\n",
    "# min-max scaling\n",
    "def min_max_scaling(data):\n",
    "    global min_values\n",
    "    global max_values\n",
    "    min_values = np.amin(data, axis=(0,1), keepdims=True)\n",
    "    max_values = np.amax(data, axis=(0,1), keepdims=True)\n",
    "    return (data-min_values)/(max_values-min_values)\n",
    "\n",
    "# normalizing\n",
    "def normalize(data):\n",
    "    global mean\n",
    "    global std\n",
    "    mean = np.mean(data, axis=(0,1), keepdims=True)\n",
    "    std = np.std(data, axis=(0,1), keepdims=True)\n",
    "    return (data - mean)/std"
   ]
  },
  {
   "cell_type": "markdown",
   "metadata": {},
   "source": [
    "Small data arrays (5 matches - 4 of them train, 1 of them validation)"
   ]
  },
  {
   "cell_type": "code",
   "execution_count": 76,
   "metadata": {},
   "outputs": [],
   "source": [
    "first_small_match_id = 60561\n",
    "small_match_count = 5\n",
    "\n",
    "x_small = np.ndarray(shape=(small_match_count, data_height, data_width), dtype=np.float)\n",
    "y_team_small = np.ndarray(shape=(small_match_count, data_height, label_team_width), dtype=np.int)\n",
    "y_player_small = np.ndarray(shape=(small_match_count, data_height, label_player_width), dtype=np.int)\n",
    "y_pass_small = np.ndarray(shape=(small_match_count, data_height, label_player_width), dtype=np.int)\n",
    "\n",
    "for id in range(small_match_count):\n",
    "    x_small[id] = np.load('../data/match_' + str(id + first_small_match_id) + '/x_data.npy')\n",
    "    y_team_small[id] = np.load('../data/match_' + str(id + first_small_match_id) + '/y_team_data.npy')\n",
    "    y_player_small[id] = np.load('../data/match_' + str(id + first_small_match_id) + '/y_player_data.npy')\n",
    "    y_pass_small[id] = np.load('../data/match_' + str(id + first_small_match_id) + '/y_pass_data.npy')"
   ]
  },
  {
   "cell_type": "markdown",
   "metadata": {},
   "source": [
    "All data arrays (304 match - 243 of them train, 61 of them validation)"
   ]
  },
  {
   "cell_type": "code",
   "execution_count": 45,
   "metadata": {
    "collapsed": true
   },
   "outputs": [],
   "source": [
    "x_all = np.ndarray(shape=(len(matches['id']), data_height, data_width))\n",
    "y_team_all = np.ndarray(shape=(len(matches['id']), data_height, label_team_width))\n",
    "y_player_all = np.ndarray(shape=(len(matches['id']), data_height, label_player_width))\n",
    "y_pass_all = np.ndarray(shape=(len(matches['id']), data_height, label_pass_width))\n",
    "\n",
    "idx = 0\n",
    "for id in matches['id']:\n",
    "    x_all[idx] = np.load('../data/match_' + str(id) + '/x_data.npy')\n",
    "    y_team_all[idx] = np.load('../data/match_' + str(id) + '/y_team_data.npy')\n",
    "    y_player_all[idx] = np.load('../data/match_' + str(id) + '/y_player_data.npy')\n",
    "    y_pass_all[idx] = np.load('../data/match_' + str(id) + '/y_player_data.npy')\n",
    "    idx +=1"
   ]
  },
  {
   "cell_type": "markdown",
   "metadata": {},
   "source": [
    "Normalize or scale the data"
   ]
  },
  {
   "cell_type": "code",
   "execution_count": 77,
   "metadata": {
    "collapsed": false
   },
   "outputs": [],
   "source": [
    "x_small = normalize(x_small)\n",
    "\n",
    "with open('../model/mean_std.pkl', 'wb') as file:\n",
    "    pickle.dump((mean, std), file, pickle.HIGHEST_PROTOCOL)"
   ]
  },
  {
   "cell_type": "code",
   "execution_count": null,
   "metadata": {},
   "outputs": [],
   "source": [
    "x_small = min_max_scaling(x_small)\n",
    "\n",
    "with open('../model/min_max.pkl', 'wb') as file:\n",
    "    pickle.dump((min_values, max_values), file, pickle.HIGHEST_PROTOCOL)"
   ]
  },
  {
   "cell_type": "code",
   "execution_count": null,
   "metadata": {},
   "outputs": [],
   "source": [
    "x_all = normalize(x_all)\n",
    "\n",
    "with open('../model/mean_std.pkl', 'wb') as file:\n",
    "    pickle.dump((mean, std), file, pickle.HIGHEST_PROTOCOL)"
   ]
  },
  {
   "cell_type": "code",
   "execution_count": null,
   "metadata": {},
   "outputs": [],
   "source": [
    "x_all = min_max_scaling(x_all)\n",
    "\n",
    "with open('../model/min_max.pkl', 'wb') as file:\n",
    "    pickle.dump((min_values, max_values), file, pickle.HIGHEST_PROTOCOL)"
   ]
  },
  {
   "cell_type": "markdown",
   "metadata": {},
   "source": [
    "Team ball possesion model"
   ]
  },
  {
   "cell_type": "code",
   "execution_count": 63,
   "metadata": {
    "collapsed": true
   },
   "outputs": [
    {
     "name": "stdout",
     "output_type": "stream",
     "text": [
      "Train on 4 samples, validate on 1 samples\nEpoch 1/100\n"
     ]
    },
    {
     "name": "stdout",
     "output_type": "stream",
     "text": [
      " - 29s - loss: 2.0820 - acc: 0.3468 - val_loss: 1.3046 - val_acc: 0.3723\n"
     ]
    },
    {
     "name": "stdout",
     "output_type": "stream",
     "text": [
      "Epoch 2/100\n"
     ]
    },
    {
     "name": "stdout",
     "output_type": "stream",
     "text": [
      " - 27s - loss: 1.7171 - acc: 0.3595 - val_loss: 1.2827 - val_acc: 0.3780\n"
     ]
    },
    {
     "name": "stdout",
     "output_type": "stream",
     "text": [
      "Epoch 3/100\n"
     ]
    },
    {
     "name": "stdout",
     "output_type": "stream",
     "text": [
      " - 26s - loss: 1.5895 - acc: 0.3933 - val_loss: 1.2577 - val_acc: 0.3882\n"
     ]
    },
    {
     "name": "stdout",
     "output_type": "stream",
     "text": [
      "Epoch 4/100\n"
     ]
    },
    {
     "name": "stdout",
     "output_type": "stream",
     "text": [
      " - 27s - loss: 1.5318 - acc: 0.3879 - val_loss: 1.2426 - val_acc: 0.3977\n"
     ]
    },
    {
     "name": "stdout",
     "output_type": "stream",
     "text": [
      "Epoch 5/100\n"
     ]
    },
    {
     "name": "stdout",
     "output_type": "stream",
     "text": [
      " - 27s - loss: 1.5216 - acc: 0.4213 - val_loss: 1.2304 - val_acc: 0.4072\n"
     ]
    },
    {
     "name": "stdout",
     "output_type": "stream",
     "text": [
      "Epoch 6/100\n"
     ]
    },
    {
     "name": "stdout",
     "output_type": "stream",
     "text": [
      " - 26s - loss: 1.3799 - acc: 0.4195 - val_loss: 1.2196 - val_acc: 0.4710\n"
     ]
    },
    {
     "name": "stdout",
     "output_type": "stream",
     "text": [
      "Epoch 7/100\n"
     ]
    },
    {
     "name": "stdout",
     "output_type": "stream",
     "text": [
      " - 27s - loss: 1.3306 - acc: 0.4178 - val_loss: 1.2113 - val_acc: 0.4787\n"
     ]
    },
    {
     "name": "stdout",
     "output_type": "stream",
     "text": [
      "Epoch 8/100\n"
     ]
    },
    {
     "name": "stdout",
     "output_type": "stream",
     "text": [
      " - 29s - loss: 1.2927 - acc: 0.4456 - val_loss: 1.2034 - val_acc: 0.4882\n"
     ]
    },
    {
     "name": "stdout",
     "output_type": "stream",
     "text": [
      "Epoch 9/100\n"
     ]
    },
    {
     "name": "stdout",
     "output_type": "stream",
     "text": [
      " - 26s - loss: 1.2599 - acc: 0.4650 - val_loss: 1.1934 - val_acc: 0.4947\n"
     ]
    },
    {
     "name": "stdout",
     "output_type": "stream",
     "text": [
      "Epoch 10/100\n"
     ]
    },
    {
     "name": "stdout",
     "output_type": "stream",
     "text": [
      " - 29s - loss: 1.2458 - acc: 0.4771 - val_loss: 1.1858 - val_acc: 0.5033\n"
     ]
    },
    {
     "name": "stdout",
     "output_type": "stream",
     "text": [
      "Epoch 11/100\n"
     ]
    },
    {
     "name": "stdout",
     "output_type": "stream",
     "text": [
      " - 28s - loss: 1.2288 - acc: 0.4741 - val_loss: 1.1785 - val_acc: 0.5092\n"
     ]
    },
    {
     "name": "stdout",
     "output_type": "stream",
     "text": [
      "Epoch 12/100\n"
     ]
    },
    {
     "name": "stdout",
     "output_type": "stream",
     "text": [
      " - 27s - loss: 1.1909 - acc: 0.4785 - val_loss: 1.1724 - val_acc: 0.5157\n"
     ]
    },
    {
     "name": "stdout",
     "output_type": "stream",
     "text": [
      "Epoch 13/100\n"
     ]
    },
    {
     "name": "stdout",
     "output_type": "stream",
     "text": [
      " - 29s - loss: 1.2346 - acc: 0.4860 - val_loss: 1.1664 - val_acc: 0.5245\n"
     ]
    },
    {
     "name": "stdout",
     "output_type": "stream",
     "text": [
      "Epoch 14/100\n"
     ]
    },
    {
     "name": "stdout",
     "output_type": "stream",
     "text": [
      " - 30s - loss: 1.1976 - acc: 0.4803 - val_loss: 1.1613 - val_acc: 0.5317\n"
     ]
    },
    {
     "name": "stdout",
     "output_type": "stream",
     "text": [
      "Epoch 15/100\n"
     ]
    },
    {
     "name": "stdout",
     "output_type": "stream",
     "text": [
      " - 27s - loss: 1.1853 - acc: 0.4954 - val_loss: 1.1566 - val_acc: 0.5357\n"
     ]
    },
    {
     "name": "stdout",
     "output_type": "stream",
     "text": [
      "Epoch 16/100\n"
     ]
    },
    {
     "name": "stdout",
     "output_type": "stream",
     "text": [
      " - 27s - loss: 1.1698 - acc: 0.4823 - val_loss: 1.1530 - val_acc: 0.5420\n"
     ]
    },
    {
     "name": "stdout",
     "output_type": "stream",
     "text": [
      "Epoch 17/100\n"
     ]
    },
    {
     "name": "stdout",
     "output_type": "stream",
     "text": [
      " - 28s - loss: 1.1688 - acc: 0.5055 - val_loss: 1.1493 - val_acc: 0.5442\n"
     ]
    },
    {
     "name": "stdout",
     "output_type": "stream",
     "text": [
      "Epoch 18/100\n"
     ]
    },
    {
     "name": "stdout",
     "output_type": "stream",
     "text": [
      " - 29s - loss: 1.1576 - acc: 0.5033 - val_loss: 1.1457 - val_acc: 0.5478\n"
     ]
    },
    {
     "name": "stdout",
     "output_type": "stream",
     "text": [
      "Epoch 19/100\n"
     ]
    },
    {
     "name": "stdout",
     "output_type": "stream",
     "text": [
      " - 30s - loss: 1.1583 - acc: 0.4853 - val_loss: 1.1425 - val_acc: 0.5513\n"
     ]
    },
    {
     "name": "stdout",
     "output_type": "stream",
     "text": [
      "Epoch 20/100\n"
     ]
    },
    {
     "name": "stdout",
     "output_type": "stream",
     "text": [
      " - 28s - loss: 1.1280 - acc: 0.5047 - val_loss: 1.1390 - val_acc: 0.5538\n"
     ]
    },
    {
     "name": "stdout",
     "output_type": "stream",
     "text": [
      "Epoch 21/100\n"
     ]
    },
    {
     "name": "stdout",
     "output_type": "stream",
     "text": [
      " - 29s - loss: 1.1193 - acc: 0.5218 - val_loss: 1.1361 - val_acc: 0.5568\n"
     ]
    },
    {
     "name": "stdout",
     "output_type": "stream",
     "text": [
      "Epoch 22/100\n"
     ]
    },
    {
     "name": "stdout",
     "output_type": "stream",
     "text": [
      " - 29s - loss: 1.1150 - acc: 0.5255 - val_loss: 1.1336 - val_acc: 0.5602\n"
     ]
    },
    {
     "name": "stdout",
     "output_type": "stream",
     "text": [
      "Epoch 23/100\n"
     ]
    },
    {
     "name": "stdout",
     "output_type": "stream",
     "text": [
      " - 28s - loss: 1.1357 - acc: 0.5038 - val_loss: 1.1311 - val_acc: 0.5620\n"
     ]
    },
    {
     "name": "stdout",
     "output_type": "stream",
     "text": [
      "Epoch 24/100\n"
     ]
    },
    {
     "name": "stdout",
     "output_type": "stream",
     "text": [
      " - 29s - loss: 1.1081 - acc: 0.5255 - val_loss: 1.1288 - val_acc: 0.5655\n"
     ]
    },
    {
     "name": "stdout",
     "output_type": "stream",
     "text": [
      "Epoch 25/100\n"
     ]
    },
    {
     "name": "stdout",
     "output_type": "stream",
     "text": [
      " - 27s - loss: 1.1065 - acc: 0.5294 - val_loss: 1.1265 - val_acc: 0.5675\n"
     ]
    },
    {
     "name": "stdout",
     "output_type": "stream",
     "text": [
      "Epoch 26/100\n"
     ]
    },
    {
     "name": "stdout",
     "output_type": "stream",
     "text": [
      " - 28s - loss: 1.1071 - acc: 0.5263 - val_loss: 1.1243 - val_acc: 0.5700\n"
     ]
    },
    {
     "name": "stdout",
     "output_type": "stream",
     "text": [
      "Epoch 27/100\n"
     ]
    },
    {
     "name": "stdout",
     "output_type": "stream",
     "text": [
      " - 31s - loss: 1.0924 - acc: 0.5508 - val_loss: 1.1222 - val_acc: 0.5718\n"
     ]
    },
    {
     "name": "stdout",
     "output_type": "stream",
     "text": [
      "Epoch 28/100\n"
     ]
    },
    {
     "name": "stdout",
     "output_type": "stream",
     "text": [
      " - 30s - loss: 1.0992 - acc: 0.5335 - val_loss: 1.1199 - val_acc: 0.5742\n"
     ]
    },
    {
     "name": "stdout",
     "output_type": "stream",
     "text": [
      "Epoch 29/100\n"
     ]
    },
    {
     "name": "stdout",
     "output_type": "stream",
     "text": [
      " - 28s - loss: 1.0946 - acc: 0.5358 - val_loss: 1.1177 - val_acc: 0.5773\n"
     ]
    },
    {
     "name": "stdout",
     "output_type": "stream",
     "text": [
      "Epoch 30/100\n"
     ]
    },
    {
     "name": "stdout",
     "output_type": "stream",
     "text": [
      " - 28s - loss: 1.0872 - acc: 0.5397 - val_loss: 1.1154 - val_acc: 0.5787\n"
     ]
    },
    {
     "name": "stdout",
     "output_type": "stream",
     "text": [
      "Epoch 31/100\n"
     ]
    },
    {
     "name": "stdout",
     "output_type": "stream",
     "text": [
      " - 28s - loss: 1.1006 - acc: 0.5460 - val_loss: 1.1131 - val_acc: 0.5823\n"
     ]
    },
    {
     "name": "stdout",
     "output_type": "stream",
     "text": [
      "Epoch 32/100\n"
     ]
    },
    {
     "name": "stdout",
     "output_type": "stream",
     "text": [
      " - 28s - loss: 1.0842 - acc: 0.5483 - val_loss: 1.1108 - val_acc: 0.5847\n"
     ]
    },
    {
     "name": "stdout",
     "output_type": "stream",
     "text": [
      "Epoch 33/100\n"
     ]
    },
    {
     "name": "stdout",
     "output_type": "stream",
     "text": [
      " - 29s - loss: 1.0781 - acc: 0.5547 - val_loss: 1.1088 - val_acc: 0.5878\n"
     ]
    },
    {
     "name": "stdout",
     "output_type": "stream",
     "text": [
      "Epoch 34/100\n"
     ]
    },
    {
     "name": "stdout",
     "output_type": "stream",
     "text": [
      " - 27s - loss: 1.0734 - acc: 0.5631 - val_loss: 1.1069 - val_acc: 0.5897\n"
     ]
    },
    {
     "name": "stdout",
     "output_type": "stream",
     "text": [
      "Epoch 35/100\n"
     ]
    },
    {
     "name": "stdout",
     "output_type": "stream",
     "text": [
      " - 27s - loss: 1.0859 - acc: 0.5456 - val_loss: 1.1052 - val_acc: 0.5910\n"
     ]
    },
    {
     "name": "stdout",
     "output_type": "stream",
     "text": [
      "Epoch 36/100\n"
     ]
    },
    {
     "name": "stdout",
     "output_type": "stream",
     "text": [
      " - 29s - loss: 1.0800 - acc: 0.5506 - val_loss: 1.1037 - val_acc: 0.5930\n"
     ]
    },
    {
     "name": "stdout",
     "output_type": "stream",
     "text": [
      "Epoch 37/100\n"
     ]
    },
    {
     "name": "stdout",
     "output_type": "stream",
     "text": [
      " - 29s - loss: 1.0747 - acc: 0.5448 - val_loss: 1.1022 - val_acc: 0.5960\n"
     ]
    },
    {
     "name": "stdout",
     "output_type": "stream",
     "text": [
      "Epoch 38/100\n"
     ]
    },
    {
     "name": "stdout",
     "output_type": "stream",
     "text": [
      " - 31s - loss: 1.0678 - acc: 0.5432 - val_loss: 1.1011 - val_acc: 0.5970\n"
     ]
    },
    {
     "name": "stdout",
     "output_type": "stream",
     "text": [
      "Epoch 39/100\n"
     ]
    },
    {
     "name": "stdout",
     "output_type": "stream",
     "text": [
      " - 30s - loss: 1.0745 - acc: 0.5580 - val_loss: 1.0996 - val_acc: 0.5992\n"
     ]
    },
    {
     "name": "stdout",
     "output_type": "stream",
     "text": [
      "Epoch 40/100\n"
     ]
    },
    {
     "name": "stdout",
     "output_type": "stream",
     "text": [
      " - 29s - loss: 1.0633 - acc: 0.5564 - val_loss: 1.0983 - val_acc: 0.5998\n"
     ]
    },
    {
     "name": "stdout",
     "output_type": "stream",
     "text": [
      "Epoch 41/100\n"
     ]
    },
    {
     "name": "stdout",
     "output_type": "stream",
     "text": [
      " - 29s - loss: 1.0585 - acc: 0.5662 - val_loss: 1.0967 - val_acc: 0.6007\n"
     ]
    },
    {
     "name": "stdout",
     "output_type": "stream",
     "text": [
      "Epoch 42/100\n"
     ]
    },
    {
     "name": "stdout",
     "output_type": "stream",
     "text": [
      " - 29s - loss: 1.0684 - acc: 0.5580 - val_loss: 1.0961 - val_acc: 0.5985\n"
     ]
    },
    {
     "name": "stdout",
     "output_type": "stream",
     "text": [
      "Epoch 43/100\n"
     ]
    },
    {
     "name": "stdout",
     "output_type": "stream",
     "text": [
      " - 26s - loss: 1.0867 - acc: 0.5427 - val_loss: 1.1199 - val_acc: 0.5908\n"
     ]
    },
    {
     "name": "stdout",
     "output_type": "stream",
     "text": [
      "Epoch 44/100\n"
     ]
    },
    {
     "name": "stdout",
     "output_type": "stream",
     "text": [
      " - 29s - loss: 1.1223 - acc: 0.5425 - val_loss: 1.2514 - val_acc: 0.5848\n"
     ]
    },
    {
     "name": "stdout",
     "output_type": "stream",
     "text": [
      "Epoch 45/100\n"
     ]
    },
    {
     "name": "stdout",
     "output_type": "stream",
     "text": [
      " - 31s - loss: 1.2046 - acc: 0.5511 - val_loss: 1.3380 - val_acc: 0.5827\n"
     ]
    },
    {
     "name": "stdout",
     "output_type": "stream",
     "text": [
      "Epoch 46/100\n"
     ]
    },
    {
     "name": "stdout",
     "output_type": "stream",
     "text": [
      " - 31s - loss: 1.2444 - acc: 0.5299 - val_loss: 1.4084 - val_acc: 0.5817\n"
     ]
    },
    {
     "name": "stdout",
     "output_type": "stream",
     "text": [
      "Epoch 47/100\n"
     ]
    },
    {
     "name": "stdout",
     "output_type": "stream",
     "text": [
      " - 30s - loss: 1.3269 - acc: 0.5322 - val_loss: 1.4594 - val_acc: 0.5825\n"
     ]
    },
    {
     "name": "stdout",
     "output_type": "stream",
     "text": [
      "Epoch 48/100\n"
     ]
    },
    {
     "name": "stdout",
     "output_type": "stream",
     "text": [
      " - 29s - loss: 1.3558 - acc: 0.5438 - val_loss: 1.4968 - val_acc: 0.5835\n"
     ]
    },
    {
     "name": "stdout",
     "output_type": "stream",
     "text": [
      "Epoch 49/100\n"
     ]
    },
    {
     "name": "stdout",
     "output_type": "stream",
     "text": [
      " - 27s - loss: 1.3068 - acc: 0.5314 - val_loss: 1.5243 - val_acc: 0.5837\n"
     ]
    },
    {
     "name": "stdout",
     "output_type": "stream",
     "text": [
      "Epoch 50/100\n"
     ]
    },
    {
     "name": "stdout",
     "output_type": "stream",
     "text": [
      " - 28s - loss: 1.3126 - acc: 0.5479 - val_loss: 1.5401 - val_acc: 0.5837\n"
     ]
    },
    {
     "name": "stdout",
     "output_type": "stream",
     "text": [
      "Epoch 51/100\n"
     ]
    },
    {
     "name": "stdout",
     "output_type": "stream",
     "text": [
      " - 30s - loss: 1.2731 - acc: 0.5522 - val_loss: 1.5479 - val_acc: 0.5858\n"
     ]
    },
    {
     "name": "stdout",
     "output_type": "stream",
     "text": [
      "Epoch 52/100\n"
     ]
    },
    {
     "name": "stdout",
     "output_type": "stream",
     "text": [
      " - 30s - loss: 1.3207 - acc: 0.5312 - val_loss: 1.5597 - val_acc: 0.5872\n"
     ]
    },
    {
     "name": "stdout",
     "output_type": "stream",
     "text": [
      "Epoch 53/100\n"
     ]
    },
    {
     "name": "stdout",
     "output_type": "stream",
     "text": [
      " - 28s - loss: 1.2316 - acc: 0.5530 - val_loss: 1.5635 - val_acc: 0.5885\n"
     ]
    },
    {
     "name": "stdout",
     "output_type": "stream",
     "text": [
      "Epoch 54/100\n"
     ]
    },
    {
     "name": "stdout",
     "output_type": "stream",
     "text": [
      " - 33s - loss: 1.2323 - acc: 0.5451 - val_loss: 1.5640 - val_acc: 0.5892\n"
     ]
    },
    {
     "name": "stdout",
     "output_type": "stream",
     "text": [
      "Epoch 55/100\n"
     ]
    },
    {
     "name": "stdout",
     "output_type": "stream",
     "text": [
      " - 29s - loss: 1.2609 - acc: 0.5498 - val_loss: 1.5650 - val_acc: 0.5895\n"
     ]
    },
    {
     "name": "stdout",
     "output_type": "stream",
     "text": [
      "Epoch 56/100\n"
     ]
    },
    {
     "name": "stdout",
     "output_type": "stream",
     "text": [
      " - 29s - loss: 1.2452 - acc: 0.5522 - val_loss: 1.5625 - val_acc: 0.5913\n"
     ]
    },
    {
     "name": "stdout",
     "output_type": "stream",
     "text": [
      "Epoch 57/100\n"
     ]
    },
    {
     "name": "stdout",
     "output_type": "stream",
     "text": [
      " - 27s - loss: 1.2126 - acc: 0.5643 - val_loss: 1.5595 - val_acc: 0.5933\n"
     ]
    },
    {
     "name": "stdout",
     "output_type": "stream",
     "text": [
      "Epoch 58/100\n"
     ]
    },
    {
     "name": "stdout",
     "output_type": "stream",
     "text": [
      " - 29s - loss: 1.1942 - acc: 0.5674 - val_loss: 1.5415 - val_acc: 0.5938\n"
     ]
    },
    {
     "name": "stdout",
     "output_type": "stream",
     "text": [
      "Epoch 59/100\n"
     ]
    },
    {
     "name": "stdout",
     "output_type": "stream",
     "text": [
      " - 31s - loss: 1.2329 - acc: 0.5564 - val_loss: 1.5337 - val_acc: 0.5948\n"
     ]
    },
    {
     "name": "stdout",
     "output_type": "stream",
     "text": [
      "Epoch 60/100\n"
     ]
    },
    {
     "name": "stdout",
     "output_type": "stream",
     "text": [
      " - 31s - loss: 1.1676 - acc: 0.5694 - val_loss: 1.5309 - val_acc: 0.5953\n"
     ]
    },
    {
     "name": "stdout",
     "output_type": "stream",
     "text": [
      "Epoch 61/100\n"
     ]
    },
    {
     "name": "stdout",
     "output_type": "stream",
     "text": [
      " - 29s - loss: 1.1912 - acc: 0.5658 - val_loss: 1.5269 - val_acc: 0.5957\n"
     ]
    },
    {
     "name": "stdout",
     "output_type": "stream",
     "text": [
      "Epoch 62/100\n"
     ]
    },
    {
     "name": "stdout",
     "output_type": "stream",
     "text": [
      " - 28s - loss: 1.1562 - acc: 0.5622 - val_loss: nan - val_acc: 0.5407\n"
     ]
    },
    {
     "name": "stdout",
     "output_type": "stream",
     "text": [
      "Epoch 63/100\n"
     ]
    },
    {
     "name": "stdout",
     "output_type": "stream",
     "text": [
      " - 28s - loss: nan - acc: 0.4705 - val_loss: nan - val_acc: 0.5407\n"
     ]
    },
    {
     "name": "stdout",
     "output_type": "stream",
     "text": [
      "Epoch 64/100\n"
     ]
    },
    {
     "name": "stdout",
     "output_type": "stream",
     "text": [
      " - 30s - loss: nan - acc: 0.4705 - val_loss: nan - val_acc: 0.5407\n"
     ]
    },
    {
     "name": "stdout",
     "output_type": "stream",
     "text": [
      "Epoch 65/100\n"
     ]
    },
    {
     "name": "stdout",
     "output_type": "stream",
     "text": [
      " - 28s - loss: nan - acc: 0.4705 - val_loss: nan - val_acc: 0.5407\n"
     ]
    },
    {
     "name": "stdout",
     "output_type": "stream",
     "text": [
      "Epoch 66/100\n"
     ]
    },
    {
     "name": "stdout",
     "output_type": "stream",
     "text": [
      " - 28s - loss: nan - acc: 0.4705 - val_loss: nan - val_acc: 0.5407\n"
     ]
    },
    {
     "name": "stdout",
     "output_type": "stream",
     "text": [
      "Epoch 67/100\n"
     ]
    },
    {
     "name": "stdout",
     "output_type": "stream",
     "text": [
      " - 29s - loss: nan - acc: 0.4705 - val_loss: nan - val_acc: 0.5407\n"
     ]
    },
    {
     "name": "stdout",
     "output_type": "stream",
     "text": [
      "Epoch 68/100\n"
     ]
    },
    {
     "name": "stdout",
     "output_type": "stream",
     "text": [
      " - 30s - loss: nan - acc: 0.4705 - val_loss: nan - val_acc: 0.5407\n"
     ]
    },
    {
     "name": "stdout",
     "output_type": "stream",
     "text": [
      "Epoch 69/100\n"
     ]
    },
    {
     "name": "stdout",
     "output_type": "stream",
     "text": [
      " - 30s - loss: nan - acc: 0.4705 - val_loss: nan - val_acc: 0.5407\n"
     ]
    },
    {
     "name": "stdout",
     "output_type": "stream",
     "text": [
      "Epoch 70/100\n"
     ]
    },
    {
     "name": "stdout",
     "output_type": "stream",
     "text": [
      " - 29s - loss: nan - acc: 0.4705 - val_loss: nan - val_acc: 0.5407\n"
     ]
    },
    {
     "name": "stdout",
     "output_type": "stream",
     "text": [
      "Epoch 71/100\n"
     ]
    },
    {
     "name": "stdout",
     "output_type": "stream",
     "text": [
      " - 29s - loss: nan - acc: 0.4705 - val_loss: nan - val_acc: 0.5407\n"
     ]
    },
    {
     "name": "stdout",
     "output_type": "stream",
     "text": [
      "Epoch 72/100\n"
     ]
    },
    {
     "name": "stdout",
     "output_type": "stream",
     "text": [
      " - 29s - loss: nan - acc: 0.4705 - val_loss: nan - val_acc: 0.5407\n"
     ]
    },
    {
     "name": "stdout",
     "output_type": "stream",
     "text": [
      "Epoch 73/100\n"
     ]
    },
    {
     "name": "stdout",
     "output_type": "stream",
     "text": [
      " - 30s - loss: nan - acc: 0.4705 - val_loss: nan - val_acc: 0.5407\n"
     ]
    },
    {
     "name": "stdout",
     "output_type": "stream",
     "text": [
      "Epoch 74/100\n"
     ]
    },
    {
     "name": "stdout",
     "output_type": "stream",
     "text": [
      " - 28s - loss: nan - acc: 0.4705 - val_loss: nan - val_acc: 0.5407\n"
     ]
    },
    {
     "name": "stdout",
     "output_type": "stream",
     "text": [
      "Epoch 75/100\n"
     ]
    },
    {
     "name": "stdout",
     "output_type": "stream",
     "text": [
      " - 31s - loss: nan - acc: 0.4705 - val_loss: nan - val_acc: 0.5407\n"
     ]
    },
    {
     "name": "stdout",
     "output_type": "stream",
     "text": [
      "Epoch 76/100\n"
     ]
    },
    {
     "name": "stdout",
     "output_type": "stream",
     "text": [
      " - 28s - loss: nan - acc: 0.4705 - val_loss: nan - val_acc: 0.5407\n"
     ]
    },
    {
     "name": "stdout",
     "output_type": "stream",
     "text": [
      "Epoch 77/100\n"
     ]
    },
    {
     "name": "stdout",
     "output_type": "stream",
     "text": [
      " - 30s - loss: nan - acc: 0.4705 - val_loss: nan - val_acc: 0.5407\n"
     ]
    },
    {
     "name": "stdout",
     "output_type": "stream",
     "text": [
      "Epoch 78/100\n"
     ]
    },
    {
     "name": "stdout",
     "output_type": "stream",
     "text": [
      " - 30s - loss: nan - acc: 0.4705 - val_loss: nan - val_acc: 0.5407\n"
     ]
    },
    {
     "name": "stdout",
     "output_type": "stream",
     "text": [
      "Epoch 79/100\n"
     ]
    },
    {
     "name": "stdout",
     "output_type": "stream",
     "text": [
      " - 28s - loss: nan - acc: 0.4705 - val_loss: nan - val_acc: 0.5407\n"
     ]
    },
    {
     "name": "stdout",
     "output_type": "stream",
     "text": [
      "Epoch 80/100\n"
     ]
    },
    {
     "name": "stdout",
     "output_type": "stream",
     "text": [
      " - 28s - loss: nan - acc: 0.4705 - val_loss: nan - val_acc: 0.5407\n"
     ]
    },
    {
     "name": "stdout",
     "output_type": "stream",
     "text": [
      "Epoch 81/100\n"
     ]
    },
    {
     "name": "stdout",
     "output_type": "stream",
     "text": [
      " - 30s - loss: nan - acc: 0.4705 - val_loss: nan - val_acc: 0.5407\n"
     ]
    },
    {
     "name": "stdout",
     "output_type": "stream",
     "text": [
      "Epoch 82/100\n"
     ]
    },
    {
     "name": "stdout",
     "output_type": "stream",
     "text": [
      " - 28s - loss: nan - acc: 0.4705 - val_loss: nan - val_acc: 0.5407\n"
     ]
    },
    {
     "name": "stdout",
     "output_type": "stream",
     "text": [
      "Epoch 83/100\n"
     ]
    },
    {
     "name": "stdout",
     "output_type": "stream",
     "text": [
      " - 28s - loss: nan - acc: 0.4705 - val_loss: nan - val_acc: 0.5407\n"
     ]
    },
    {
     "name": "stdout",
     "output_type": "stream",
     "text": [
      "Epoch 84/100\n"
     ]
    },
    {
     "name": "stdout",
     "output_type": "stream",
     "text": [
      " - 30s - loss: nan - acc: 0.4705 - val_loss: nan - val_acc: 0.5407\n"
     ]
    },
    {
     "name": "stdout",
     "output_type": "stream",
     "text": [
      "Epoch 85/100\n"
     ]
    },
    {
     "name": "stdout",
     "output_type": "stream",
     "text": [
      " - 29s - loss: nan - acc: 0.4705 - val_loss: nan - val_acc: 0.5407\n"
     ]
    },
    {
     "name": "stdout",
     "output_type": "stream",
     "text": [
      "Epoch 86/100\n"
     ]
    },
    {
     "name": "stdout",
     "output_type": "stream",
     "text": [
      " - 28s - loss: nan - acc: 0.4705 - val_loss: nan - val_acc: 0.5407\n"
     ]
    },
    {
     "name": "stdout",
     "output_type": "stream",
     "text": [
      "Epoch 87/100\n"
     ]
    },
    {
     "name": "stdout",
     "output_type": "stream",
     "text": [
      " - 30s - loss: nan - acc: 0.4705 - val_loss: nan - val_acc: 0.5407\n"
     ]
    },
    {
     "name": "stdout",
     "output_type": "stream",
     "text": [
      "Epoch 88/100\n"
     ]
    },
    {
     "name": "stdout",
     "output_type": "stream",
     "text": [
      " - 29s - loss: nan - acc: 0.4705 - val_loss: nan - val_acc: 0.5407\n"
     ]
    },
    {
     "name": "stdout",
     "output_type": "stream",
     "text": [
      "Epoch 89/100\n"
     ]
    },
    {
     "name": "stdout",
     "output_type": "stream",
     "text": [
      " - 31s - loss: nan - acc: 0.4705 - val_loss: nan - val_acc: 0.5407\n"
     ]
    },
    {
     "name": "stdout",
     "output_type": "stream",
     "text": [
      "Epoch 90/100\n"
     ]
    },
    {
     "name": "stdout",
     "output_type": "stream",
     "text": [
      " - 30s - loss: nan - acc: 0.4705 - val_loss: nan - val_acc: 0.5407\n"
     ]
    },
    {
     "name": "stdout",
     "output_type": "stream",
     "text": [
      "Epoch 91/100\n"
     ]
    },
    {
     "name": "stdout",
     "output_type": "stream",
     "text": [
      " - 29s - loss: nan - acc: 0.4705 - val_loss: nan - val_acc: 0.5407\n"
     ]
    },
    {
     "name": "stdout",
     "output_type": "stream",
     "text": [
      "Epoch 92/100\n"
     ]
    },
    {
     "name": "stdout",
     "output_type": "stream",
     "text": [
      " - 29s - loss: nan - acc: 0.4705 - val_loss: nan - val_acc: 0.5407\n"
     ]
    },
    {
     "name": "stdout",
     "output_type": "stream",
     "text": [
      "Epoch 93/100\n"
     ]
    },
    {
     "name": "stdout",
     "output_type": "stream",
     "text": [
      " - 27s - loss: nan - acc: 0.4705 - val_loss: nan - val_acc: 0.5407\n"
     ]
    },
    {
     "name": "stdout",
     "output_type": "stream",
     "text": [
      "Epoch 94/100\n"
     ]
    },
    {
     "name": "stdout",
     "output_type": "stream",
     "text": [
      " - 28s - loss: nan - acc: 0.4705 - val_loss: nan - val_acc: 0.5407\n"
     ]
    },
    {
     "name": "stdout",
     "output_type": "stream",
     "text": [
      "Epoch 95/100\n"
     ]
    },
    {
     "name": "stdout",
     "output_type": "stream",
     "text": [
      " - 29s - loss: nan - acc: 0.4705 - val_loss: nan - val_acc: 0.5407\n"
     ]
    },
    {
     "name": "stdout",
     "output_type": "stream",
     "text": [
      "Epoch 96/100\n"
     ]
    },
    {
     "name": "stdout",
     "output_type": "stream",
     "text": [
      " - 31s - loss: nan - acc: 0.4705 - val_loss: nan - val_acc: 0.5407\n"
     ]
    },
    {
     "name": "stdout",
     "output_type": "stream",
     "text": [
      "Epoch 97/100\n"
     ]
    },
    {
     "name": "stdout",
     "output_type": "stream",
     "text": [
      " - 28s - loss: nan - acc: 0.4705 - val_loss: nan - val_acc: 0.5407\n"
     ]
    },
    {
     "name": "stdout",
     "output_type": "stream",
     "text": [
      "Epoch 98/100\n"
     ]
    },
    {
     "name": "stdout",
     "output_type": "stream",
     "text": [
      " - 28s - loss: nan - acc: 0.4705 - val_loss: nan - val_acc: 0.5407\n"
     ]
    },
    {
     "name": "stdout",
     "output_type": "stream",
     "text": [
      "Epoch 99/100\n"
     ]
    },
    {
     "name": "stdout",
     "output_type": "stream",
     "text": [
      " - 28s - loss: nan - acc: 0.4705 - val_loss: nan - val_acc: 0.5407\n"
     ]
    },
    {
     "name": "stdout",
     "output_type": "stream",
     "text": [
      "Epoch 100/100\n"
     ]
    },
    {
     "name": "stdout",
     "output_type": "stream",
     "text": [
      " - 28s - loss: nan - acc: 0.4705 - val_loss: nan - val_acc: 0.5407\n"
     ]
    }
   ],
   "source": [
    "batch_size = 1\n",
    "epochs = 100\n",
    "timestep = 6000\n",
    "\n",
    "input_dim = 87\n",
    "output_dim = 3\n",
    "\n",
    "model_team = Sequential()\n",
    "model_team.add(LSTM(64, \n",
    "               input_shape=(timestep, input_dim), \n",
    "               return_sequences=True,\n",
    "               dropout=0.2,\n",
    "               kernel_initializer=initializers.glorot_normal(783),\n",
    "               kernel_regularizer=regularizers.l2(0.01)))\n",
    "model_team.add(Dense(32, kernel_initializer=initializers.glorot_normal(783), activation='relu'))\n",
    "model_team.add(Dense(16, kernel_initializer=initializers.glorot_normal(783), activation='relu'))\n",
    "model_team.add(Dense(output_dim, kernel_initializer=initializers.glorot_normal(783), activation='softmax'))\n",
    "\n",
    "#opt = rm()\n",
    "#opt = ada()\n",
    "opt = sgd(lr=0.001, momentum=0.9, decay=1e-5, nesterov=True)\n",
    "\n",
    "model_team.compile(loss='categorical_crossentropy',\n",
    "              optimizer=opt,\n",
    "              metrics=['accuracy'])\n",
    "\n",
    "history_team = model_team.fit(x=x_small, y=y_team_small, batch_size=batch_size, epochs=epochs, verbose=2, \n",
    "                              callbacks=None, validation_split=0.2, validation_data=None, shuffle=True, \n",
    "                              class_weight=None, sample_weight=None, initial_epoch=0, steps_per_epoch=None, \n",
    "                              validation_steps=None)"
   ]
  },
  {
   "cell_type": "code",
   "execution_count": 64,
   "metadata": {
    "collapsed": true
   },
   "outputs": [],
   "source": [
    "# summarize history for accuracy\n",
    "plt.plot(history_team.history['acc'])\n",
    "plt.plot(history_team.history['val_acc'])\n",
    "plt.title('model accuracy')\n",
    "plt.ylabel('accuracy')\n",
    "plt.xlabel('epoch')\n",
    "plt.legend(['train', 'validation'], loc='lower right')\n",
    "plt.savefig('../graphs/team_acc.png')\n",
    "plt.show()\n",
    "\n",
    "# summarize history for loss\n",
    "plt.plot(history_team.history['loss'])\n",
    "plt.plot(history_team.history['val_loss'])\n",
    "plt.title('model loss')\n",
    "plt.ylabel('loss')\n",
    "plt.xlabel('epoch')\n",
    "plt.legend(['train', 'validation'], loc='upper right')\n",
    "plt.savefig('../graphs/team_loss.png')\n",
    "plt.show()"
   ]
  },
  {
   "cell_type": "code",
   "execution_count": 61,
   "metadata": {},
   "outputs": [],
   "source": [
    "model_team.save('../model/team_model.h5')\n",
    "model_team.save_weights('../model/team_model_weight.h5')\n",
    "json_data = model_team.to_json()\n",
    "\n",
    "with open('../model/team_json_data.txt', 'w') as outfile:\n",
    "    json.dump(json_data, outfile)"
   ]
  },
  {
   "cell_type": "markdown",
   "metadata": {},
   "source": [
    "Player ball possesion model"
   ]
  },
  {
   "cell_type": "code",
   "execution_count": 81,
   "metadata": {},
   "outputs": [],
   "source": [
    "x_small = np.concatenate((x_small, y_team_small), axis=2)"
   ]
  },
  {
   "cell_type": "code",
   "execution_count": null,
   "metadata": {},
   "outputs": [],
   "source": [
    "x_all = np.concatenate((x_all, y_team_all), axis=2)"
   ]
  },
  {
   "cell_type": "code",
   "execution_count": 84,
   "metadata": {
    "collapsed": true
   },
   "outputs": [
    {
     "name": "stdout",
     "output_type": "stream",
     "text": [
      "Train on 4 samples, validate on 1 samples\nEpoch 1/100\n"
     ]
    },
    {
     "name": "stdout",
     "output_type": "stream",
     "text": [
      " - 30s - loss: 3.9764 - acc: 0.1414 - val_loss: 3.6607 - val_acc: 0.3103\n"
     ]
    },
    {
     "name": "stdout",
     "output_type": "stream",
     "text": [
      "Epoch 2/100\n"
     ]
    },
    {
     "name": "stdout",
     "output_type": "stream",
     "text": [
      " - 27s - loss: 3.2855 - acc: 0.4395 - val_loss: 3.2443 - val_acc: 0.3603\n"
     ]
    },
    {
     "name": "stdout",
     "output_type": "stream",
     "text": [
      "Epoch 3/100\n"
     ]
    },
    {
     "name": "stdout",
     "output_type": "stream",
     "text": [
      " - 26s - loss: 2.7929 - acc: 0.4691 - val_loss: 3.1891 - val_acc: 0.3682\n"
     ]
    },
    {
     "name": "stdout",
     "output_type": "stream",
     "text": [
      "Epoch 4/100\n"
     ]
    },
    {
     "name": "stdout",
     "output_type": "stream",
     "text": [
      " - 26s - loss: 2.6333 - acc: 0.4698 - val_loss: 3.0953 - val_acc: 0.3608\n"
     ]
    },
    {
     "name": "stdout",
     "output_type": "stream",
     "text": [
      "Epoch 5/100\n"
     ]
    },
    {
     "name": "stdout",
     "output_type": "stream",
     "text": [
      " - 27s - loss: 2.5381 - acc: 0.4730 - val_loss: 3.0350 - val_acc: 0.3903\n"
     ]
    },
    {
     "name": "stdout",
     "output_type": "stream",
     "text": [
      "Epoch 6/100\n"
     ]
    },
    {
     "name": "stdout",
     "output_type": "stream",
     "text": [
      " - 26s - loss: 2.4745 - acc: 0.4698 - val_loss: 2.9638 - val_acc: 0.4132\n"
     ]
    },
    {
     "name": "stdout",
     "output_type": "stream",
     "text": [
      "Epoch 7/100\n"
     ]
    },
    {
     "name": "stdout",
     "output_type": "stream",
     "text": [
      " - 27s - loss: 2.4532 - acc: 0.4742 - val_loss: 2.9820 - val_acc: 0.3597\n"
     ]
    },
    {
     "name": "stdout",
     "output_type": "stream",
     "text": [
      "Epoch 8/100\n"
     ]
    },
    {
     "name": "stdout",
     "output_type": "stream",
     "text": [
      " - 25s - loss: 2.3835 - acc: 0.4766 - val_loss: 2.9520 - val_acc: 0.3867\n"
     ]
    },
    {
     "name": "stdout",
     "output_type": "stream",
     "text": [
      "Epoch 9/100\n"
     ]
    },
    {
     "name": "stdout",
     "output_type": "stream",
     "text": [
      " - 27s - loss: 2.4039 - acc: 0.4749 - val_loss: 2.9148 - val_acc: 0.3643\n"
     ]
    },
    {
     "name": "stdout",
     "output_type": "stream",
     "text": [
      "Epoch 10/100\n"
     ]
    },
    {
     "name": "stdout",
     "output_type": "stream",
     "text": [
      " - 26s - loss: 2.3202 - acc: 0.4793 - val_loss: 2.8511 - val_acc: 0.3940\n"
     ]
    },
    {
     "name": "stdout",
     "output_type": "stream",
     "text": [
      "Epoch 11/100\n"
     ]
    },
    {
     "name": "stdout",
     "output_type": "stream",
     "text": [
      " - 25s - loss: 2.2413 - acc: 0.4814 - val_loss: 2.8527 - val_acc: 0.3902\n"
     ]
    },
    {
     "name": "stdout",
     "output_type": "stream",
     "text": [
      "Epoch 12/100\n"
     ]
    },
    {
     "name": "stdout",
     "output_type": "stream",
     "text": [
      " - 27s - loss: 2.2016 - acc: 0.4838 - val_loss: 2.8608 - val_acc: 0.3912\n"
     ]
    },
    {
     "name": "stdout",
     "output_type": "stream",
     "text": [
      "Epoch 13/100\n"
     ]
    },
    {
     "name": "stdout",
     "output_type": "stream",
     "text": [
      " - 28s - loss: 2.1972 - acc: 0.4799 - val_loss: 2.8028 - val_acc: 0.4318\n"
     ]
    },
    {
     "name": "stdout",
     "output_type": "stream",
     "text": [
      "Epoch 14/100\n"
     ]
    },
    {
     "name": "stdout",
     "output_type": "stream",
     "text": [
      " - 26s - loss: 2.1933 - acc: 0.4845 - val_loss: 2.7536 - val_acc: 0.4378\n"
     ]
    },
    {
     "name": "stdout",
     "output_type": "stream",
     "text": [
      "Epoch 15/100\n"
     ]
    },
    {
     "name": "stdout",
     "output_type": "stream",
     "text": [
      " - 27s - loss: 2.1424 - acc: 0.4900 - val_loss: 2.7506 - val_acc: 0.4348\n"
     ]
    },
    {
     "name": "stdout",
     "output_type": "stream",
     "text": [
      "Epoch 16/100\n"
     ]
    },
    {
     "name": "stdout",
     "output_type": "stream",
     "text": [
      " - 26s - loss: 2.0770 - acc: 0.4872 - val_loss: 2.7001 - val_acc: 0.4507\n"
     ]
    },
    {
     "name": "stdout",
     "output_type": "stream",
     "text": [
      "Epoch 17/100\n"
     ]
    },
    {
     "name": "stdout",
     "output_type": "stream",
     "text": [
      " - 26s - loss: 2.1712 - acc: 0.4923 - val_loss: 2.7275 - val_acc: 0.4273\n"
     ]
    },
    {
     "name": "stdout",
     "output_type": "stream",
     "text": [
      "Epoch 18/100\n"
     ]
    },
    {
     "name": "stdout",
     "output_type": "stream",
     "text": [
      " - 26s - loss: 2.2128 - acc: 0.4847 - val_loss: 2.6421 - val_acc: 0.4643\n"
     ]
    },
    {
     "name": "stdout",
     "output_type": "stream",
     "text": [
      "Epoch 19/100\n"
     ]
    },
    {
     "name": "stdout",
     "output_type": "stream",
     "text": [
      " - 26s - loss: 2.1118 - acc: 0.4815 - val_loss: 2.6663 - val_acc: 0.4497\n"
     ]
    },
    {
     "name": "stdout",
     "output_type": "stream",
     "text": [
      "Epoch 20/100\n"
     ]
    },
    {
     "name": "stdout",
     "output_type": "stream",
     "text": [
      " - 26s - loss: 2.0594 - acc: 0.4929 - val_loss: 2.6505 - val_acc: 0.4527\n"
     ]
    },
    {
     "name": "stdout",
     "output_type": "stream",
     "text": [
      "Epoch 21/100\n"
     ]
    },
    {
     "name": "stdout",
     "output_type": "stream",
     "text": [
      " - 25s - loss: 2.0705 - acc: 0.5001 - val_loss: 2.6451 - val_acc: 0.4565\n"
     ]
    },
    {
     "name": "stdout",
     "output_type": "stream",
     "text": [
      "Epoch 22/100\n"
     ]
    },
    {
     "name": "stdout",
     "output_type": "stream",
     "text": [
      " - 28s - loss: 1.9947 - acc: 0.4990 - val_loss: 2.6291 - val_acc: 0.4628\n"
     ]
    },
    {
     "name": "stdout",
     "output_type": "stream",
     "text": [
      "Epoch 23/100\n"
     ]
    },
    {
     "name": "stdout",
     "output_type": "stream",
     "text": [
      " - 27s - loss: 1.9856 - acc: 0.5071 - val_loss: 2.6948 - val_acc: 0.4542\n"
     ]
    },
    {
     "name": "stdout",
     "output_type": "stream",
     "text": [
      "Epoch 24/100\n"
     ]
    },
    {
     "name": "stdout",
     "output_type": "stream",
     "text": [
      " - 27s - loss: 2.0079 - acc: 0.5046 - val_loss: 2.6180 - val_acc: 0.4603\n"
     ]
    },
    {
     "name": "stdout",
     "output_type": "stream",
     "text": [
      "Epoch 25/100\n"
     ]
    },
    {
     "name": "stdout",
     "output_type": "stream",
     "text": [
      " - 26s - loss: 2.0060 - acc: 0.4960 - val_loss: 2.5794 - val_acc: 0.4732\n"
     ]
    },
    {
     "name": "stdout",
     "output_type": "stream",
     "text": [
      "Epoch 26/100\n"
     ]
    },
    {
     "name": "stdout",
     "output_type": "stream",
     "text": [
      " - 26s - loss: 1.9382 - acc: 0.5123 - val_loss: 2.6217 - val_acc: 0.4692\n"
     ]
    },
    {
     "name": "stdout",
     "output_type": "stream",
     "text": [
      "Epoch 27/100\n"
     ]
    },
    {
     "name": "stdout",
     "output_type": "stream",
     "text": [
      " - 26s - loss: 2.0518 - acc: 0.5070 - val_loss: 2.5583 - val_acc: 0.4873\n"
     ]
    },
    {
     "name": "stdout",
     "output_type": "stream",
     "text": [
      "Epoch 28/100\n"
     ]
    },
    {
     "name": "stdout",
     "output_type": "stream",
     "text": [
      " - 28s - loss: 1.9489 - acc: 0.5087 - val_loss: 2.5740 - val_acc: 0.4878\n"
     ]
    },
    {
     "name": "stdout",
     "output_type": "stream",
     "text": [
      "Epoch 29/100\n"
     ]
    },
    {
     "name": "stdout",
     "output_type": "stream",
     "text": [
      " - 25s - loss: 1.9618 - acc: 0.5163 - val_loss: 2.6057 - val_acc: 0.4653\n"
     ]
    },
    {
     "name": "stdout",
     "output_type": "stream",
     "text": [
      "Epoch 30/100\n"
     ]
    },
    {
     "name": "stdout",
     "output_type": "stream",
     "text": [
      " - 30s - loss: 1.9563 - acc: 0.4997 - val_loss: 2.5715 - val_acc: 0.4873\n"
     ]
    },
    {
     "name": "stdout",
     "output_type": "stream",
     "text": [
      "Epoch 31/100\n"
     ]
    },
    {
     "name": "stdout",
     "output_type": "stream",
     "text": [
      " - 27s - loss: 1.8410 - acc: 0.5269 - val_loss: 2.5830 - val_acc: 0.4807\n"
     ]
    },
    {
     "name": "stdout",
     "output_type": "stream",
     "text": [
      "Epoch 32/100\n"
     ]
    },
    {
     "name": "stdout",
     "output_type": "stream",
     "text": [
      " - 27s - loss: 1.9333 - acc: 0.5195 - val_loss: 2.5798 - val_acc: 0.4763\n"
     ]
    },
    {
     "name": "stdout",
     "output_type": "stream",
     "text": [
      "Epoch 33/100\n"
     ]
    },
    {
     "name": "stdout",
     "output_type": "stream",
     "text": [
      " - 28s - loss: 1.8457 - acc: 0.5267 - val_loss: 2.5646 - val_acc: 0.4825\n"
     ]
    },
    {
     "name": "stdout",
     "output_type": "stream",
     "text": [
      "Epoch 34/100\n"
     ]
    },
    {
     "name": "stdout",
     "output_type": "stream",
     "text": [
      " - 26s - loss: 1.7912 - acc: 0.5315 - val_loss: 2.5741 - val_acc: 0.4868\n"
     ]
    },
    {
     "name": "stdout",
     "output_type": "stream",
     "text": [
      "Epoch 35/100\n"
     ]
    },
    {
     "name": "stdout",
     "output_type": "stream",
     "text": [
      " - 26s - loss: 1.8133 - acc: 0.5398 - val_loss: 2.6053 - val_acc: 0.4735\n"
     ]
    },
    {
     "name": "stdout",
     "output_type": "stream",
     "text": [
      "Epoch 36/100\n"
     ]
    },
    {
     "name": "stdout",
     "output_type": "stream",
     "text": [
      " - 26s - loss: 1.8109 - acc: 0.5243 - val_loss: 2.5375 - val_acc: 0.4975\n"
     ]
    },
    {
     "name": "stdout",
     "output_type": "stream",
     "text": [
      "Epoch 37/100\n"
     ]
    },
    {
     "name": "stdout",
     "output_type": "stream",
     "text": [
      " - 25s - loss: 1.8866 - acc: 0.5240 - val_loss: 2.5087 - val_acc: 0.4995\n"
     ]
    },
    {
     "name": "stdout",
     "output_type": "stream",
     "text": [
      "Epoch 38/100\n"
     ]
    },
    {
     "name": "stdout",
     "output_type": "stream",
     "text": [
      " - 28s - loss: 1.8224 - acc: 0.5270 - val_loss: 2.4931 - val_acc: 0.4992\n"
     ]
    },
    {
     "name": "stdout",
     "output_type": "stream",
     "text": [
      "Epoch 39/100\n"
     ]
    },
    {
     "name": "stdout",
     "output_type": "stream",
     "text": [
      " - 25s - loss: 1.8005 - acc: 0.5265 - val_loss: 2.5433 - val_acc: 0.4942\n"
     ]
    },
    {
     "name": "stdout",
     "output_type": "stream",
     "text": [
      "Epoch 40/100\n"
     ]
    },
    {
     "name": "stdout",
     "output_type": "stream",
     "text": [
      " - 28s - loss: 1.7510 - acc: 0.5426 - val_loss: 2.5498 - val_acc: 0.4995\n"
     ]
    },
    {
     "name": "stdout",
     "output_type": "stream",
     "text": [
      "Epoch 41/100\n"
     ]
    },
    {
     "name": "stdout",
     "output_type": "stream",
     "text": [
      " - 27s - loss: 1.7481 - acc: 0.5463 - val_loss: 2.5290 - val_acc: 0.5022\n"
     ]
    },
    {
     "name": "stdout",
     "output_type": "stream",
     "text": [
      "Epoch 42/100\n"
     ]
    },
    {
     "name": "stdout",
     "output_type": "stream",
     "text": [
      " - 26s - loss: 1.6821 - acc: 0.5522 - val_loss: 2.5134 - val_acc: 0.5085\n"
     ]
    },
    {
     "name": "stdout",
     "output_type": "stream",
     "text": [
      "Epoch 43/100\n"
     ]
    },
    {
     "name": "stdout",
     "output_type": "stream",
     "text": [
      " - 27s - loss: 1.7065 - acc: 0.5504 - val_loss: 2.4999 - val_acc: 0.5105\n"
     ]
    },
    {
     "name": "stdout",
     "output_type": "stream",
     "text": [
      "Epoch 44/100\n"
     ]
    },
    {
     "name": "stdout",
     "output_type": "stream",
     "text": [
      " - 26s - loss: 1.7658 - acc: 0.5486 - val_loss: 2.4423 - val_acc: 0.5158\n"
     ]
    },
    {
     "name": "stdout",
     "output_type": "stream",
     "text": [
      "Epoch 45/100\n"
     ]
    },
    {
     "name": "stdout",
     "output_type": "stream",
     "text": [
      " - 27s - loss: 1.6930 - acc: 0.5561 - val_loss: 2.4718 - val_acc: 0.5162\n"
     ]
    },
    {
     "name": "stdout",
     "output_type": "stream",
     "text": [
      "Epoch 46/100\n"
     ]
    },
    {
     "name": "stdout",
     "output_type": "stream",
     "text": [
      " - 27s - loss: 1.6944 - acc: 0.5492 - val_loss: 2.4224 - val_acc: 0.5182\n"
     ]
    },
    {
     "name": "stdout",
     "output_type": "stream",
     "text": [
      "Epoch 47/100\n"
     ]
    },
    {
     "name": "stdout",
     "output_type": "stream",
     "text": [
      " - 27s - loss: 1.7048 - acc: 0.5453 - val_loss: 2.4123 - val_acc: 0.5222\n"
     ]
    },
    {
     "name": "stdout",
     "output_type": "stream",
     "text": [
      "Epoch 48/100\n"
     ]
    },
    {
     "name": "stdout",
     "output_type": "stream",
     "text": [
      " - 27s - loss: 1.7472 - acc: 0.5446 - val_loss: 2.4114 - val_acc: 0.5068\n"
     ]
    },
    {
     "name": "stdout",
     "output_type": "stream",
     "text": [
      "Epoch 49/100\n"
     ]
    },
    {
     "name": "stdout",
     "output_type": "stream",
     "text": [
      " - 27s - loss: 1.6601 - acc: 0.5534 - val_loss: 2.3948 - val_acc: 0.5192\n"
     ]
    },
    {
     "name": "stdout",
     "output_type": "stream",
     "text": [
      "Epoch 50/100\n"
     ]
    },
    {
     "name": "stdout",
     "output_type": "stream",
     "text": [
      " - 27s - loss: 1.7631 - acc: 0.5398 - val_loss: 2.3727 - val_acc: 0.5222\n"
     ]
    },
    {
     "name": "stdout",
     "output_type": "stream",
     "text": [
      "Epoch 51/100\n"
     ]
    },
    {
     "name": "stdout",
     "output_type": "stream",
     "text": [
      " - 26s - loss: 1.7312 - acc: 0.5450 - val_loss: 2.3571 - val_acc: 0.5170\n"
     ]
    },
    {
     "name": "stdout",
     "output_type": "stream",
     "text": [
      "Epoch 52/100\n"
     ]
    },
    {
     "name": "stdout",
     "output_type": "stream",
     "text": [
      " - 24s - loss: 1.7372 - acc: 0.5489 - val_loss: 2.3735 - val_acc: 0.5143\n"
     ]
    },
    {
     "name": "stdout",
     "output_type": "stream",
     "text": [
      "Epoch 53/100\n"
     ]
    },
    {
     "name": "stdout",
     "output_type": "stream",
     "text": [
      " - 28s - loss: 1.8359 - acc: 0.5338 - val_loss: 2.3549 - val_acc: 0.5105\n"
     ]
    },
    {
     "name": "stdout",
     "output_type": "stream",
     "text": [
      "Epoch 54/100\n"
     ]
    },
    {
     "name": "stdout",
     "output_type": "stream",
     "text": [
      " - 27s - loss: 1.6136 - acc: 0.5631 - val_loss: 2.3788 - val_acc: 0.5152\n"
     ]
    },
    {
     "name": "stdout",
     "output_type": "stream",
     "text": [
      "Epoch 55/100\n"
     ]
    },
    {
     "name": "stdout",
     "output_type": "stream",
     "text": [
      " - 26s - loss: 1.7465 - acc: 0.5394 - val_loss: 2.3506 - val_acc: 0.5218\n"
     ]
    },
    {
     "name": "stdout",
     "output_type": "stream",
     "text": [
      "Epoch 56/100\n"
     ]
    },
    {
     "name": "stdout",
     "output_type": "stream",
     "text": [
      " - 29s - loss: 1.5587 - acc: 0.5798 - val_loss: 2.3424 - val_acc: 0.5227\n"
     ]
    },
    {
     "name": "stdout",
     "output_type": "stream",
     "text": [
      "Epoch 57/100\n"
     ]
    },
    {
     "name": "stdout",
     "output_type": "stream",
     "text": [
      " - 26s - loss: 1.6545 - acc: 0.5655 - val_loss: 2.3465 - val_acc: 0.5122\n"
     ]
    },
    {
     "name": "stdout",
     "output_type": "stream",
     "text": [
      "Epoch 58/100\n"
     ]
    },
    {
     "name": "stdout",
     "output_type": "stream",
     "text": [
      " - 28s - loss: 1.6968 - acc: 0.5502 - val_loss: 2.3132 - val_acc: 0.5207\n"
     ]
    },
    {
     "name": "stdout",
     "output_type": "stream",
     "text": [
      "Epoch 59/100\n"
     ]
    },
    {
     "name": "stdout",
     "output_type": "stream",
     "text": [
      " - 25s - loss: 1.7072 - acc: 0.5455 - val_loss: 2.3076 - val_acc: 0.5252\n"
     ]
    },
    {
     "name": "stdout",
     "output_type": "stream",
     "text": [
      "Epoch 60/100\n"
     ]
    },
    {
     "name": "stdout",
     "output_type": "stream",
     "text": [
      " - 26s - loss: 1.8164 - acc: 0.5356 - val_loss: 2.2931 - val_acc: 0.5202\n"
     ]
    },
    {
     "name": "stdout",
     "output_type": "stream",
     "text": [
      "Epoch 61/100\n"
     ]
    },
    {
     "name": "stdout",
     "output_type": "stream",
     "text": [
      " - 28s - loss: 1.5712 - acc: 0.5681 - val_loss: 2.2938 - val_acc: 0.5237\n"
     ]
    },
    {
     "name": "stdout",
     "output_type": "stream",
     "text": [
      "Epoch 62/100\n"
     ]
    },
    {
     "name": "stdout",
     "output_type": "stream",
     "text": [
      " - 26s - loss: 1.5619 - acc: 0.5710 - val_loss: 2.2894 - val_acc: 0.5252\n"
     ]
    },
    {
     "name": "stdout",
     "output_type": "stream",
     "text": [
      "Epoch 63/100\n"
     ]
    },
    {
     "name": "stdout",
     "output_type": "stream",
     "text": [
      " - 29s - loss: 1.5665 - acc: 0.5826 - val_loss: 2.2853 - val_acc: 0.5225\n"
     ]
    },
    {
     "name": "stdout",
     "output_type": "stream",
     "text": [
      "Epoch 64/100\n"
     ]
    },
    {
     "name": "stdout",
     "output_type": "stream",
     "text": [
      " - 26s - loss: 1.5717 - acc: 0.5713 - val_loss: 2.2331 - val_acc: 0.5258\n"
     ]
    },
    {
     "name": "stdout",
     "output_type": "stream",
     "text": [
      "Epoch 65/100\n"
     ]
    },
    {
     "name": "stdout",
     "output_type": "stream",
     "text": [
      " - 26s - loss: 1.5689 - acc: 0.5744 - val_loss: 2.2645 - val_acc: 0.5255\n"
     ]
    },
    {
     "name": "stdout",
     "output_type": "stream",
     "text": [
      "Epoch 66/100\n"
     ]
    },
    {
     "name": "stdout",
     "output_type": "stream",
     "text": [
      " - 26s - loss: 1.6298 - acc: 0.5646 - val_loss: 2.2432 - val_acc: 0.5252\n"
     ]
    },
    {
     "name": "stdout",
     "output_type": "stream",
     "text": [
      "Epoch 67/100\n"
     ]
    },
    {
     "name": "stdout",
     "output_type": "stream",
     "text": [
      " - 27s - loss: 1.5019 - acc: 0.5831 - val_loss: 2.2609 - val_acc: 0.5233\n"
     ]
    },
    {
     "name": "stdout",
     "output_type": "stream",
     "text": [
      "Epoch 68/100\n"
     ]
    },
    {
     "name": "stdout",
     "output_type": "stream",
     "text": [
      " - 27s - loss: 1.4644 - acc: 0.5891 - val_loss: 2.2502 - val_acc: 0.5267\n"
     ]
    },
    {
     "name": "stdout",
     "output_type": "stream",
     "text": [
      "Epoch 69/100\n"
     ]
    },
    {
     "name": "stdout",
     "output_type": "stream",
     "text": [
      " - 28s - loss: 1.6029 - acc: 0.5693 - val_loss: 2.2425 - val_acc: 0.5322\n"
     ]
    },
    {
     "name": "stdout",
     "output_type": "stream",
     "text": [
      "Epoch 70/100\n"
     ]
    },
    {
     "name": "stdout",
     "output_type": "stream",
     "text": [
      " - 27s - loss: 1.5137 - acc: 0.5859 - val_loss: 2.2282 - val_acc: 0.5290\n"
     ]
    },
    {
     "name": "stdout",
     "output_type": "stream",
     "text": [
      "Epoch 71/100\n"
     ]
    },
    {
     "name": "stdout",
     "output_type": "stream",
     "text": [
      " - 26s - loss: 1.6319 - acc: 0.5567 - val_loss: 2.2047 - val_acc: 0.5298\n"
     ]
    },
    {
     "name": "stdout",
     "output_type": "stream",
     "text": [
      "Epoch 72/100\n"
     ]
    },
    {
     "name": "stdout",
     "output_type": "stream",
     "text": [
      " - 25s - loss: 1.6849 - acc: 0.5513 - val_loss: 2.1705 - val_acc: 0.5313\n"
     ]
    },
    {
     "name": "stdout",
     "output_type": "stream",
     "text": [
      "Epoch 73/100\n"
     ]
    },
    {
     "name": "stdout",
     "output_type": "stream",
     "text": [
      " - 28s - loss: 1.5710 - acc: 0.5828 - val_loss: 2.1571 - val_acc: 0.5325\n"
     ]
    },
    {
     "name": "stdout",
     "output_type": "stream",
     "text": [
      "Epoch 74/100\n"
     ]
    },
    {
     "name": "stdout",
     "output_type": "stream",
     "text": [
      " - 27s - loss: 1.6238 - acc: 0.5546 - val_loss: 2.1389 - val_acc: 0.5313\n"
     ]
    },
    {
     "name": "stdout",
     "output_type": "stream",
     "text": [
      "Epoch 75/100\n"
     ]
    },
    {
     "name": "stdout",
     "output_type": "stream",
     "text": [
      " - 27s - loss: 1.5731 - acc: 0.5702 - val_loss: 2.1773 - val_acc: 0.5300\n"
     ]
    },
    {
     "name": "stdout",
     "output_type": "stream",
     "text": [
      "Epoch 76/100\n"
     ]
    },
    {
     "name": "stdout",
     "output_type": "stream",
     "text": [
      " - 29s - loss: 1.4840 - acc: 0.5825 - val_loss: 2.1583 - val_acc: 0.5333\n"
     ]
    },
    {
     "name": "stdout",
     "output_type": "stream",
     "text": [
      "Epoch 77/100\n"
     ]
    },
    {
     "name": "stdout",
     "output_type": "stream",
     "text": [
      " - 26s - loss: 1.5933 - acc: 0.5780 - val_loss: 2.1988 - val_acc: 0.5262\n"
     ]
    },
    {
     "name": "stdout",
     "output_type": "stream",
     "text": [
      "Epoch 78/100\n"
     ]
    },
    {
     "name": "stdout",
     "output_type": "stream",
     "text": [
      " - 27s - loss: 1.5678 - acc: 0.5725 - val_loss: 2.1285 - val_acc: 0.5343\n"
     ]
    },
    {
     "name": "stdout",
     "output_type": "stream",
     "text": [
      "Epoch 79/100\n"
     ]
    },
    {
     "name": "stdout",
     "output_type": "stream",
     "text": [
      " - 26s - loss: 1.4845 - acc: 0.5822 - val_loss: 2.1070 - val_acc: 0.5342\n"
     ]
    },
    {
     "name": "stdout",
     "output_type": "stream",
     "text": [
      "Epoch 80/100\n"
     ]
    },
    {
     "name": "stdout",
     "output_type": "stream",
     "text": [
      " - 26s - loss: 1.5629 - acc: 0.5794 - val_loss: 2.1334 - val_acc: 0.5332\n"
     ]
    },
    {
     "name": "stdout",
     "output_type": "stream",
     "text": [
      "Epoch 81/100\n"
     ]
    },
    {
     "name": "stdout",
     "output_type": "stream",
     "text": [
      " - 27s - loss: 1.5249 - acc: 0.5719 - val_loss: 2.0925 - val_acc: 0.5353\n"
     ]
    },
    {
     "name": "stdout",
     "output_type": "stream",
     "text": [
      "Epoch 82/100\n"
     ]
    },
    {
     "name": "stdout",
     "output_type": "stream",
     "text": [
      " - 26s - loss: 1.4201 - acc: 0.6038 - val_loss: 2.0967 - val_acc: 0.5363\n"
     ]
    },
    {
     "name": "stdout",
     "output_type": "stream",
     "text": [
      "Epoch 83/100\n"
     ]
    },
    {
     "name": "stdout",
     "output_type": "stream",
     "text": [
      " - 27s - loss: 1.4659 - acc: 0.5877 - val_loss: 2.0867 - val_acc: 0.5435\n"
     ]
    },
    {
     "name": "stdout",
     "output_type": "stream",
     "text": [
      "Epoch 84/100\n"
     ]
    },
    {
     "name": "stdout",
     "output_type": "stream",
     "text": [
      " - 28s - loss: 1.7876 - acc: 0.5359 - val_loss: 2.0359 - val_acc: 0.5400\n"
     ]
    },
    {
     "name": "stdout",
     "output_type": "stream",
     "text": [
      "Epoch 85/100\n"
     ]
    },
    {
     "name": "stdout",
     "output_type": "stream",
     "text": [
      " - 25s - loss: 1.5498 - acc: 0.5867 - val_loss: 2.0769 - val_acc: 0.5378\n"
     ]
    },
    {
     "name": "stdout",
     "output_type": "stream",
     "text": [
      "Epoch 86/100\n"
     ]
    },
    {
     "name": "stdout",
     "output_type": "stream",
     "text": [
      " - 29s - loss: 1.7102 - acc: 0.5484 - val_loss: 2.0619 - val_acc: 0.5363\n"
     ]
    },
    {
     "name": "stdout",
     "output_type": "stream",
     "text": [
      "Epoch 87/100\n"
     ]
    },
    {
     "name": "stdout",
     "output_type": "stream",
     "text": [
      " - 27s - loss: 1.6201 - acc: 0.5564 - val_loss: 2.0394 - val_acc: 0.5385\n"
     ]
    },
    {
     "name": "stdout",
     "output_type": "stream",
     "text": [
      "Epoch 88/100\n"
     ]
    },
    {
     "name": "stdout",
     "output_type": "stream",
     "text": [
      " - 27s - loss: 1.5150 - acc: 0.5818 - val_loss: 2.0486 - val_acc: 0.5422\n"
     ]
    },
    {
     "name": "stdout",
     "output_type": "stream",
     "text": [
      "Epoch 89/100\n"
     ]
    },
    {
     "name": "stdout",
     "output_type": "stream",
     "text": [
      " - 28s - loss: 1.4757 - acc: 0.5918 - val_loss: 2.0316 - val_acc: 0.5410\n"
     ]
    },
    {
     "name": "stdout",
     "output_type": "stream",
     "text": [
      "Epoch 90/100\n"
     ]
    },
    {
     "name": "stdout",
     "output_type": "stream",
     "text": [
      " - 27s - loss: 1.5428 - acc: 0.5738 - val_loss: 2.0566 - val_acc: 0.5393\n"
     ]
    },
    {
     "name": "stdout",
     "output_type": "stream",
     "text": [
      "Epoch 91/100\n"
     ]
    },
    {
     "name": "stdout",
     "output_type": "stream",
     "text": [
      " - 29s - loss: 1.6029 - acc: 0.5784 - val_loss: 2.0749 - val_acc: 0.5368\n"
     ]
    },
    {
     "name": "stdout",
     "output_type": "stream",
     "text": [
      "Epoch 92/100\n"
     ]
    },
    {
     "name": "stdout",
     "output_type": "stream",
     "text": [
      " - 26s - loss: 1.4864 - acc: 0.5813 - val_loss: 2.0254 - val_acc: 0.5395\n"
     ]
    },
    {
     "name": "stdout",
     "output_type": "stream",
     "text": [
      "Epoch 93/100\n"
     ]
    },
    {
     "name": "stdout",
     "output_type": "stream",
     "text": [
      " - 26s - loss: 1.3997 - acc: 0.6065 - val_loss: 2.0087 - val_acc: 0.5423\n"
     ]
    },
    {
     "name": "stdout",
     "output_type": "stream",
     "text": [
      "Epoch 94/100\n"
     ]
    },
    {
     "name": "stdout",
     "output_type": "stream",
     "text": [
      " - 27s - loss: 1.4545 - acc: 0.6021 - val_loss: 1.9998 - val_acc: 0.5427\n"
     ]
    },
    {
     "name": "stdout",
     "output_type": "stream",
     "text": [
      "Epoch 95/100\n"
     ]
    },
    {
     "name": "stdout",
     "output_type": "stream",
     "text": [
      " - 26s - loss: 1.3929 - acc: 0.6019 - val_loss: 2.0806 - val_acc: 0.5378\n"
     ]
    },
    {
     "name": "stdout",
     "output_type": "stream",
     "text": [
      "Epoch 96/100\n"
     ]
    },
    {
     "name": "stdout",
     "output_type": "stream",
     "text": [
      " - 26s - loss: 1.5572 - acc: 0.5750 - val_loss: 2.0116 - val_acc: 0.5433\n"
     ]
    },
    {
     "name": "stdout",
     "output_type": "stream",
     "text": [
      "Epoch 97/100\n"
     ]
    },
    {
     "name": "stdout",
     "output_type": "stream",
     "text": [
      " - 26s - loss: 1.7212 - acc: 0.5659 - val_loss: 1.9834 - val_acc: 0.5417\n"
     ]
    },
    {
     "name": "stdout",
     "output_type": "stream",
     "text": [
      "Epoch 98/100\n"
     ]
    },
    {
     "name": "stdout",
     "output_type": "stream",
     "text": [
      " - 26s - loss: 1.4738 - acc: 0.5942 - val_loss: 1.9735 - val_acc: 0.5422\n"
     ]
    },
    {
     "name": "stdout",
     "output_type": "stream",
     "text": [
      "Epoch 99/100\n"
     ]
    },
    {
     "name": "stdout",
     "output_type": "stream",
     "text": [
      " - 27s - loss: 1.4899 - acc: 0.5847 - val_loss: 1.9814 - val_acc: 0.5462\n"
     ]
    },
    {
     "name": "stdout",
     "output_type": "stream",
     "text": [
      "Epoch 100/100\n"
     ]
    },
    {
     "name": "stdout",
     "output_type": "stream",
     "text": [
      " - 27s - loss: 1.7046 - acc: 0.5502 - val_loss: 1.9596 - val_acc: 0.5492\n"
     ]
    }
   ],
   "source": [
    "batch_size = 1\n",
    "epochs = 100\n",
    "timestep = 6000\n",
    "\n",
    "input_dim = 90\n",
    "output_dim = 29\n",
    "\n",
    "model_player = Sequential()\n",
    "model_player.add(LSTM(72, \n",
    "               input_shape=(timestep, input_dim), \n",
    "               return_sequences=True,\n",
    "               dropout=0.2,\n",
    "               #activation='relu',\n",
    "               kernel_initializer=initializers.glorot_normal(783),\n",
    "               kernel_regularizer=regularizers.l2(0.01)))\n",
    "model_player.add(Dense(36, kernel_initializer=initializers.glorot_normal(783), activation='relu'))\n",
    "model_player.add(Dense(output_dim, kernel_initializer=initializers.glorot_normal(783), activation='softmax'))\n",
    "\n",
    "#opt = rm()\n",
    "opt = ada()\n",
    "#opt = sgd(lr=0.001, momentum=0.9, decay=1e-5, nesterov=True)\n",
    "\n",
    "model_player.compile(loss='categorical_crossentropy',\n",
    "              optimizer=opt,\n",
    "              metrics=['accuracy'])\n",
    "\n",
    "history_player = model_player.fit(x=x_small, y=y_player_small, batch_size=batch_size, epochs=epochs, verbose=2, \n",
    "                                  callbacks=None, validation_split=0.2, validation_data=None, shuffle=True, \n",
    "                                  class_weight=None, sample_weight=None, initial_epoch=0, steps_per_epoch=None, \n",
    "                                  validation_steps=None)"
   ]
  },
  {
   "cell_type": "code",
   "execution_count": 85,
   "metadata": {},
   "outputs": [],
   "source": [
    "# summarize history for accuracy\n",
    "plt.plot(history_player.history['acc'])\n",
    "plt.plot(history_player.history['val_acc'])\n",
    "plt.title('model accuracy')\n",
    "plt.ylabel('accuracy')\n",
    "plt.xlabel('epoch')\n",
    "plt.legend(['train', 'validation'], loc='lower right')\n",
    "plt.savefig('../graphs/player_acc.png')\n",
    "plt.show()\n",
    "\n",
    "# summarize history for loss\n",
    "plt.plot(history_player.history['loss'])\n",
    "plt.plot(history_player.history['val_loss'])\n",
    "plt.title('model loss')\n",
    "plt.ylabel('loss')\n",
    "plt.xlabel('epoch')\n",
    "plt.legend(['train', 'validation'], loc='upper right')\n",
    "plt.savefig('../graphs/player_loss.png')\n",
    "plt.show()"
   ]
  },
  {
   "cell_type": "code",
   "execution_count": 86,
   "metadata": {},
   "outputs": [],
   "source": [
    "model_player.save('../model/player_model.h5')\n",
    "model_player.save_weights('../model/player_model_weight.h5')\n",
    "json_data = model_player.to_json()\n",
    "\n",
    "with open('../model/player_json_data.txt', 'w') as outfile:\n",
    "    json.dump(json_data, outfile)"
   ]
  },
  {
   "cell_type": "markdown",
   "metadata": {},
   "source": [
    "Pass model"
   ]
  },
  {
   "cell_type": "code",
   "execution_count": 87,
   "metadata": {},
   "outputs": [],
   "source": [
    "x_small = np.concatenate((x_small, y_player_small), axis=2)"
   ]
  },
  {
   "cell_type": "code",
   "execution_count": null,
   "metadata": {},
   "outputs": [],
   "source": [
    "x_all = np.concatenate((x_all, y_player_all), axis=2)"
   ]
  },
  {
   "cell_type": "code",
   "execution_count": 92,
   "metadata": {
    "collapsed": true
   },
   "outputs": [
    {
     "name": "stdout",
     "output_type": "stream",
     "text": [
      "Train on 4 samples, validate on 1 samples\nEpoch 1/100\n"
     ]
    },
    {
     "name": "stdout",
     "output_type": "stream",
     "text": [
      " - 29s - loss: 1.9156 - acc: 0.0157 - val_loss: 1.8177 - val_acc: 0.0062\n"
     ]
    },
    {
     "name": "stdout",
     "output_type": "stream",
     "text": [
      "Epoch 2/100\n"
     ]
    },
    {
     "name": "stdout",
     "output_type": "stream",
     "text": [
      " - 24s - loss: 1.9148 - acc: 0.0180 - val_loss: 1.8165 - val_acc: 0.0062\n"
     ]
    },
    {
     "name": "stdout",
     "output_type": "stream",
     "text": [
      "Epoch 3/100\n"
     ]
    },
    {
     "name": "stdout",
     "output_type": "stream",
     "text": [
      " - 27s - loss: 1.9133 - acc: 0.0181 - val_loss: 1.8149 - val_acc: 0.0062\n"
     ]
    },
    {
     "name": "stdout",
     "output_type": "stream",
     "text": [
      "Epoch 4/100\n"
     ]
    },
    {
     "name": "stdout",
     "output_type": "stream",
     "text": [
      " - 25s - loss: 1.9117 - acc: 0.0152 - val_loss: 1.8131 - val_acc: 0.0062\n"
     ]
    },
    {
     "name": "stdout",
     "output_type": "stream",
     "text": [
      "Epoch 5/100\n"
     ]
    },
    {
     "name": "stdout",
     "output_type": "stream",
     "text": [
      " - 27s - loss: 1.9098 - acc: 0.0170 - val_loss: 1.8111 - val_acc: 0.0063\n"
     ]
    },
    {
     "name": "stdout",
     "output_type": "stream",
     "text": [
      "Epoch 6/100\n"
     ]
    },
    {
     "name": "stdout",
     "output_type": "stream",
     "text": [
      " - 28s - loss: 1.9082 - acc: 0.0167 - val_loss: 1.8090 - val_acc: 0.0063\n"
     ]
    },
    {
     "name": "stdout",
     "output_type": "stream",
     "text": [
      "Epoch 7/100\n"
     ]
    },
    {
     "name": "stdout",
     "output_type": "stream",
     "text": [
      " - 27s - loss: 1.9056 - acc: 0.0175 - val_loss: 1.8069 - val_acc: 0.0063\n"
     ]
    },
    {
     "name": "stdout",
     "output_type": "stream",
     "text": [
      "Epoch 8/100\n"
     ]
    },
    {
     "name": "stdout",
     "output_type": "stream",
     "text": [
      " - 27s - loss: 1.9039 - acc: 0.0154 - val_loss: 1.8048 - val_acc: 0.0063\n"
     ]
    },
    {
     "name": "stdout",
     "output_type": "stream",
     "text": [
      "Epoch 9/100\n"
     ]
    },
    {
     "name": "stdout",
     "output_type": "stream",
     "text": [
      " - 28s - loss: 1.9008 - acc: 0.0158 - val_loss: 1.8026 - val_acc: 0.0063\n"
     ]
    },
    {
     "name": "stdout",
     "output_type": "stream",
     "text": [
      "Epoch 10/100\n"
     ]
    },
    {
     "name": "stdout",
     "output_type": "stream",
     "text": [
      " - 28s - loss: 1.8993 - acc: 0.0159 - val_loss: 1.8004 - val_acc: 0.0063\n"
     ]
    },
    {
     "name": "stdout",
     "output_type": "stream",
     "text": [
      "Epoch 11/100\n"
     ]
    },
    {
     "name": "stdout",
     "output_type": "stream",
     "text": [
      " - 29s - loss: 1.8967 - acc: 0.0165 - val_loss: 1.7982 - val_acc: 0.0063\n"
     ]
    },
    {
     "name": "stdout",
     "output_type": "stream",
     "text": [
      "Epoch 12/100\n"
     ]
    },
    {
     "name": "stdout",
     "output_type": "stream",
     "text": [
      " - 28s - loss: 1.8945 - acc: 0.0158 - val_loss: 1.7959 - val_acc: 0.0063\n"
     ]
    },
    {
     "name": "stdout",
     "output_type": "stream",
     "text": [
      "Epoch 13/100\n"
     ]
    },
    {
     "name": "stdout",
     "output_type": "stream",
     "text": [
      " - 27s - loss: 1.8924 - acc: 0.0166 - val_loss: 1.7937 - val_acc: 0.0063\n"
     ]
    },
    {
     "name": "stdout",
     "output_type": "stream",
     "text": [
      "Epoch 14/100\n"
     ]
    },
    {
     "name": "stdout",
     "output_type": "stream",
     "text": [
      " - 26s - loss: 1.8901 - acc: 0.0168 - val_loss: 1.7915 - val_acc: 0.0063\n"
     ]
    },
    {
     "name": "stdout",
     "output_type": "stream",
     "text": [
      "Epoch 15/100\n"
     ]
    },
    {
     "name": "stdout",
     "output_type": "stream",
     "text": [
      " - 26s - loss: 1.8875 - acc: 0.0178 - val_loss: 1.7893 - val_acc: 0.0063\n"
     ]
    },
    {
     "name": "stdout",
     "output_type": "stream",
     "text": [
      "Epoch 16/100\n"
     ]
    },
    {
     "name": "stdout",
     "output_type": "stream",
     "text": [
      " - 29s - loss: 1.8855 - acc: 0.0157 - val_loss: 1.7871 - val_acc: 0.0062\n"
     ]
    },
    {
     "name": "stdout",
     "output_type": "stream",
     "text": [
      "Epoch 17/100\n"
     ]
    },
    {
     "name": "stdout",
     "output_type": "stream",
     "text": [
      " - 28s - loss: 1.8830 - acc: 0.0167 - val_loss: 1.7849 - val_acc: 0.0062\n"
     ]
    },
    {
     "name": "stdout",
     "output_type": "stream",
     "text": [
      "Epoch 18/100\n"
     ]
    },
    {
     "name": "stdout",
     "output_type": "stream",
     "text": [
      " - 27s - loss: 1.8809 - acc: 0.0168 - val_loss: 1.7826 - val_acc: 0.0062\n"
     ]
    },
    {
     "name": "stdout",
     "output_type": "stream",
     "text": [
      "Epoch 19/100\n"
     ]
    },
    {
     "name": "stdout",
     "output_type": "stream",
     "text": [
      " - 26s - loss: 1.8789 - acc: 0.0172 - val_loss: 1.7804 - val_acc: 0.0062\n"
     ]
    },
    {
     "name": "stdout",
     "output_type": "stream",
     "text": [
      "Epoch 20/100\n"
     ]
    },
    {
     "name": "stdout",
     "output_type": "stream",
     "text": [
      " - 28s - loss: 1.8764 - acc: 0.0158 - val_loss: 1.7782 - val_acc: 0.0062\n"
     ]
    },
    {
     "name": "stdout",
     "output_type": "stream",
     "text": [
      "Epoch 21/100\n"
     ]
    },
    {
     "name": "stdout",
     "output_type": "stream",
     "text": [
      " - 29s - loss: 1.8745 - acc: 0.0165 - val_loss: 1.7760 - val_acc: 0.0062\n"
     ]
    },
    {
     "name": "stdout",
     "output_type": "stream",
     "text": [
      "Epoch 22/100\n"
     ]
    },
    {
     "name": "stdout",
     "output_type": "stream",
     "text": [
      " - 30s - loss: 1.8716 - acc: 0.0158 - val_loss: 1.7739 - val_acc: 0.0062\n"
     ]
    },
    {
     "name": "stdout",
     "output_type": "stream",
     "text": [
      "Epoch 23/100\n"
     ]
    },
    {
     "name": "stdout",
     "output_type": "stream",
     "text": [
      " - 26s - loss: 1.8697 - acc: 0.0165 - val_loss: 1.7717 - val_acc: 0.0062\n"
     ]
    },
    {
     "name": "stdout",
     "output_type": "stream",
     "text": [
      "Epoch 24/100\n"
     ]
    },
    {
     "name": "stdout",
     "output_type": "stream",
     "text": [
      " - 29s - loss: 1.8676 - acc: 0.0165 - val_loss: 1.7695 - val_acc: 0.0062\n"
     ]
    },
    {
     "name": "stdout",
     "output_type": "stream",
     "text": [
      "Epoch 25/100\n"
     ]
    },
    {
     "name": "stdout",
     "output_type": "stream",
     "text": [
      " - 28s - loss: 1.8657 - acc: 0.0165 - val_loss: 1.7673 - val_acc: 0.0062\n"
     ]
    },
    {
     "name": "stdout",
     "output_type": "stream",
     "text": [
      "Epoch 26/100\n"
     ]
    },
    {
     "name": "stdout",
     "output_type": "stream",
     "text": [
      " - 25s - loss: 1.8633 - acc: 0.0174 - val_loss: 1.7651 - val_acc: 0.0062\n"
     ]
    },
    {
     "name": "stdout",
     "output_type": "stream",
     "text": [
      "Epoch 27/100\n"
     ]
    },
    {
     "name": "stdout",
     "output_type": "stream",
     "text": [
      " - 28s - loss: 1.8610 - acc: 0.0176 - val_loss: 1.7629 - val_acc: 0.0062\n"
     ]
    },
    {
     "name": "stdout",
     "output_type": "stream",
     "text": [
      "Epoch 28/100\n"
     ]
    },
    {
     "name": "stdout",
     "output_type": "stream",
     "text": [
      " - 29s - loss: 1.8588 - acc: 0.0172 - val_loss: 1.7608 - val_acc: 0.0060\n"
     ]
    },
    {
     "name": "stdout",
     "output_type": "stream",
     "text": [
      "Epoch 29/100\n"
     ]
    },
    {
     "name": "stdout",
     "output_type": "stream",
     "text": [
      " - 29s - loss: 1.8563 - acc: 0.0165 - val_loss: 1.7586 - val_acc: 0.0060\n"
     ]
    },
    {
     "name": "stdout",
     "output_type": "stream",
     "text": [
      "Epoch 30/100\n"
     ]
    },
    {
     "name": "stdout",
     "output_type": "stream",
     "text": [
      " - 29s - loss: 1.8539 - acc: 0.0159 - val_loss: 1.7564 - val_acc: 0.0060\n"
     ]
    },
    {
     "name": "stdout",
     "output_type": "stream",
     "text": [
      "Epoch 31/100\n"
     ]
    },
    {
     "name": "stdout",
     "output_type": "stream",
     "text": [
      " - 27s - loss: 1.8520 - acc: 0.0153 - val_loss: 1.7543 - val_acc: 0.0060\n"
     ]
    },
    {
     "name": "stdout",
     "output_type": "stream",
     "text": [
      "Epoch 32/100\n"
     ]
    },
    {
     "name": "stdout",
     "output_type": "stream",
     "text": [
      " - 30s - loss: 1.8497 - acc: 0.0167 - val_loss: 1.7521 - val_acc: 0.0060\n"
     ]
    },
    {
     "name": "stdout",
     "output_type": "stream",
     "text": [
      "Epoch 33/100\n"
     ]
    },
    {
     "name": "stdout",
     "output_type": "stream",
     "text": [
      " - 28s - loss: 1.8476 - acc: 0.0172 - val_loss: 1.7499 - val_acc: 0.0060\n"
     ]
    },
    {
     "name": "stdout",
     "output_type": "stream",
     "text": [
      "Epoch 34/100\n"
     ]
    },
    {
     "name": "stdout",
     "output_type": "stream",
     "text": [
      " - 28s - loss: 1.8457 - acc: 0.0164 - val_loss: 1.7478 - val_acc: 0.0060\n"
     ]
    },
    {
     "name": "stdout",
     "output_type": "stream",
     "text": [
      "Epoch 35/100\n"
     ]
    },
    {
     "name": "stdout",
     "output_type": "stream",
     "text": [
      " - 29s - loss: 1.8433 - acc: 0.0169 - val_loss: 1.7456 - val_acc: 0.0060\n"
     ]
    },
    {
     "name": "stdout",
     "output_type": "stream",
     "text": [
      "Epoch 36/100\n"
     ]
    },
    {
     "name": "stdout",
     "output_type": "stream",
     "text": [
      " - 26s - loss: 1.8412 - acc: 0.0165 - val_loss: 1.7435 - val_acc: 0.0060\n"
     ]
    },
    {
     "name": "stdout",
     "output_type": "stream",
     "text": [
      "Epoch 37/100\n"
     ]
    },
    {
     "name": "stdout",
     "output_type": "stream",
     "text": [
      " - 29s - loss: 1.8389 - acc: 0.0159 - val_loss: 1.7414 - val_acc: 0.0060\n"
     ]
    },
    {
     "name": "stdout",
     "output_type": "stream",
     "text": [
      "Epoch 38/100\n"
     ]
    },
    {
     "name": "stdout",
     "output_type": "stream",
     "text": [
      " - 25s - loss: 1.8367 - acc: 0.0170 - val_loss: 1.7392 - val_acc: 0.0060\n"
     ]
    },
    {
     "name": "stdout",
     "output_type": "stream",
     "text": [
      "Epoch 39/100\n"
     ]
    },
    {
     "name": "stdout",
     "output_type": "stream",
     "text": [
      " - 25s - loss: 1.8348 - acc: 0.0163 - val_loss: 1.7371 - val_acc: 0.0060\n"
     ]
    },
    {
     "name": "stdout",
     "output_type": "stream",
     "text": [
      "Epoch 40/100\n"
     ]
    },
    {
     "name": "stdout",
     "output_type": "stream",
     "text": [
      " - 29s - loss: 1.8326 - acc: 0.0166 - val_loss: 1.7350 - val_acc: 0.0060\n"
     ]
    },
    {
     "name": "stdout",
     "output_type": "stream",
     "text": [
      "Epoch 41/100\n"
     ]
    },
    {
     "name": "stdout",
     "output_type": "stream",
     "text": [
      " - 25s - loss: 1.8302 - acc: 0.0164 - val_loss: 1.7328 - val_acc: 0.0060\n"
     ]
    },
    {
     "name": "stdout",
     "output_type": "stream",
     "text": [
      "Epoch 42/100\n"
     ]
    },
    {
     "name": "stdout",
     "output_type": "stream",
     "text": [
      " - 29s - loss: 1.8278 - acc: 0.0166 - val_loss: 1.7307 - val_acc: 0.0060\n"
     ]
    },
    {
     "name": "stdout",
     "output_type": "stream",
     "text": [
      "Epoch 43/100\n"
     ]
    },
    {
     "name": "stdout",
     "output_type": "stream",
     "text": [
      " - 29s - loss: 1.8259 - acc: 0.0171 - val_loss: 1.7286 - val_acc: 0.0060\n"
     ]
    },
    {
     "name": "stdout",
     "output_type": "stream",
     "text": [
      "Epoch 44/100\n"
     ]
    },
    {
     "name": "stdout",
     "output_type": "stream",
     "text": [
      " - 25s - loss: 1.8243 - acc: 0.0148 - val_loss: 1.7265 - val_acc: 0.0060\n"
     ]
    },
    {
     "name": "stdout",
     "output_type": "stream",
     "text": [
      "Epoch 45/100\n"
     ]
    },
    {
     "name": "stdout",
     "output_type": "stream",
     "text": [
      " - 27s - loss: 1.8213 - acc: 0.0162 - val_loss: 1.7244 - val_acc: 0.0060\n"
     ]
    },
    {
     "name": "stdout",
     "output_type": "stream",
     "text": [
      "Epoch 46/100\n"
     ]
    },
    {
     "name": "stdout",
     "output_type": "stream",
     "text": [
      " - 30s - loss: 1.8201 - acc: 0.0160 - val_loss: 1.7222 - val_acc: 0.0060\n"
     ]
    },
    {
     "name": "stdout",
     "output_type": "stream",
     "text": [
      "Epoch 47/100\n"
     ]
    },
    {
     "name": "stdout",
     "output_type": "stream",
     "text": [
      " - 27s - loss: 1.8175 - acc: 0.0152 - val_loss: 1.7201 - val_acc: 0.0060\n"
     ]
    },
    {
     "name": "stdout",
     "output_type": "stream",
     "text": [
      "Epoch 48/100\n"
     ]
    },
    {
     "name": "stdout",
     "output_type": "stream",
     "text": [
      " - 29s - loss: 1.8155 - acc: 0.0171 - val_loss: 1.7180 - val_acc: 0.0060\n"
     ]
    },
    {
     "name": "stdout",
     "output_type": "stream",
     "text": [
      "Epoch 49/100\n"
     ]
    },
    {
     "name": "stdout",
     "output_type": "stream",
     "text": [
      " - 27s - loss: 1.8131 - acc: 0.0156 - val_loss: 1.7159 - val_acc: 0.0062\n"
     ]
    },
    {
     "name": "stdout",
     "output_type": "stream",
     "text": [
      "Epoch 50/100\n"
     ]
    },
    {
     "name": "stdout",
     "output_type": "stream",
     "text": [
      " - 29s - loss: 1.8110 - acc: 0.0164 - val_loss: 1.7138 - val_acc: 0.0062\n"
     ]
    },
    {
     "name": "stdout",
     "output_type": "stream",
     "text": [
      "Epoch 51/100\n"
     ]
    },
    {
     "name": "stdout",
     "output_type": "stream",
     "text": [
      " - 27s - loss: 1.8088 - acc: 0.0160 - val_loss: 1.7117 - val_acc: 0.0062\n"
     ]
    },
    {
     "name": "stdout",
     "output_type": "stream",
     "text": [
      "Epoch 52/100\n"
     ]
    },
    {
     "name": "stdout",
     "output_type": "stream",
     "text": [
      " - 29s - loss: 1.8066 - acc: 0.0167 - val_loss: 1.7097 - val_acc: 0.0062\n"
     ]
    },
    {
     "name": "stdout",
     "output_type": "stream",
     "text": [
      "Epoch 53/100\n"
     ]
    },
    {
     "name": "stdout",
     "output_type": "stream",
     "text": [
      " - 29s - loss: 1.8044 - acc: 0.0159 - val_loss: 1.7076 - val_acc: 0.0062\n"
     ]
    },
    {
     "name": "stdout",
     "output_type": "stream",
     "text": [
      "Epoch 54/100\n"
     ]
    },
    {
     "name": "stdout",
     "output_type": "stream",
     "text": [
      " - 29s - loss: 1.8029 - acc: 0.0161 - val_loss: 1.7055 - val_acc: 0.0060\n"
     ]
    },
    {
     "name": "stdout",
     "output_type": "stream",
     "text": [
      "Epoch 55/100\n"
     ]
    },
    {
     "name": "stdout",
     "output_type": "stream",
     "text": [
      " - 27s - loss: 1.8006 - acc: 0.0165 - val_loss: 1.7034 - val_acc: 0.0060\n"
     ]
    },
    {
     "name": "stdout",
     "output_type": "stream",
     "text": [
      "Epoch 56/100\n"
     ]
    },
    {
     "name": "stdout",
     "output_type": "stream",
     "text": [
      " - 26s - loss: 1.7980 - acc: 0.0172 - val_loss: 1.7013 - val_acc: 0.0060\n"
     ]
    },
    {
     "name": "stdout",
     "output_type": "stream",
     "text": [
      "Epoch 57/100\n"
     ]
    },
    {
     "name": "stdout",
     "output_type": "stream",
     "text": [
      " - 29s - loss: 1.7963 - acc: 0.0167 - val_loss: 1.6993 - val_acc: 0.0060\n"
     ]
    },
    {
     "name": "stdout",
     "output_type": "stream",
     "text": [
      "Epoch 58/100\n"
     ]
    },
    {
     "name": "stdout",
     "output_type": "stream",
     "text": [
      " - 29s - loss: 1.7940 - acc: 0.0175 - val_loss: 1.6972 - val_acc: 0.0060\n"
     ]
    },
    {
     "name": "stdout",
     "output_type": "stream",
     "text": [
      "Epoch 59/100\n"
     ]
    },
    {
     "name": "stdout",
     "output_type": "stream",
     "text": [
      " - 27s - loss: 1.7923 - acc: 0.0170 - val_loss: 1.6951 - val_acc: 0.0060\n"
     ]
    },
    {
     "name": "stdout",
     "output_type": "stream",
     "text": [
      "Epoch 60/100\n"
     ]
    },
    {
     "name": "stdout",
     "output_type": "stream",
     "text": [
      " - 29s - loss: 1.7900 - acc: 0.0155 - val_loss: 1.6931 - val_acc: 0.0060\n"
     ]
    },
    {
     "name": "stdout",
     "output_type": "stream",
     "text": [
      "Epoch 61/100\n"
     ]
    },
    {
     "name": "stdout",
     "output_type": "stream",
     "text": [
      " - 28s - loss: 1.7875 - acc: 0.0164 - val_loss: 1.6910 - val_acc: 0.0060\n"
     ]
    },
    {
     "name": "stdout",
     "output_type": "stream",
     "text": [
      "Epoch 62/100\n"
     ]
    },
    {
     "name": "stdout",
     "output_type": "stream",
     "text": [
      " - 27s - loss: 1.7856 - acc: 0.0170 - val_loss: 1.6890 - val_acc: 0.0060\n"
     ]
    },
    {
     "name": "stdout",
     "output_type": "stream",
     "text": [
      "Epoch 63/100\n"
     ]
    },
    {
     "name": "stdout",
     "output_type": "stream",
     "text": [
      " - 31s - loss: 1.7835 - acc: 0.0173 - val_loss: 1.6869 - val_acc: 0.0060\n"
     ]
    },
    {
     "name": "stdout",
     "output_type": "stream",
     "text": [
      "Epoch 64/100\n"
     ]
    },
    {
     "name": "stdout",
     "output_type": "stream",
     "text": [
      " - 28s - loss: 1.7814 - acc: 0.0167 - val_loss: 1.6849 - val_acc: 0.0060\n"
     ]
    },
    {
     "name": "stdout",
     "output_type": "stream",
     "text": [
      "Epoch 65/100\n"
     ]
    },
    {
     "name": "stdout",
     "output_type": "stream",
     "text": [
      " - 27s - loss: 1.7790 - acc: 0.0167 - val_loss: 1.6828 - val_acc: 0.0060\n"
     ]
    },
    {
     "name": "stdout",
     "output_type": "stream",
     "text": [
      "Epoch 66/100\n"
     ]
    },
    {
     "name": "stdout",
     "output_type": "stream",
     "text": [
      " - 29s - loss: 1.7776 - acc: 0.0164 - val_loss: 1.6808 - val_acc: 0.0060\n"
     ]
    },
    {
     "name": "stdout",
     "output_type": "stream",
     "text": [
      "Epoch 67/100\n"
     ]
    },
    {
     "name": "stdout",
     "output_type": "stream",
     "text": [
      " - 29s - loss: 1.7751 - acc: 0.0180 - val_loss: 1.6787 - val_acc: 0.0060\n"
     ]
    },
    {
     "name": "stdout",
     "output_type": "stream",
     "text": [
      "Epoch 68/100\n"
     ]
    },
    {
     "name": "stdout",
     "output_type": "stream",
     "text": [
      " - 27s - loss: 1.7732 - acc: 0.0177 - val_loss: 1.6767 - val_acc: 0.0060\n"
     ]
    },
    {
     "name": "stdout",
     "output_type": "stream",
     "text": [
      "Epoch 69/100\n"
     ]
    },
    {
     "name": "stdout",
     "output_type": "stream",
     "text": [
      " - 29s - loss: 1.7712 - acc: 0.0161 - val_loss: 1.6747 - val_acc: 0.0060\n"
     ]
    },
    {
     "name": "stdout",
     "output_type": "stream",
     "text": [
      "Epoch 70/100\n"
     ]
    },
    {
     "name": "stdout",
     "output_type": "stream",
     "text": [
      " - 28s - loss: 1.7688 - acc: 0.0165 - val_loss: 1.6726 - val_acc: 0.0060\n"
     ]
    },
    {
     "name": "stdout",
     "output_type": "stream",
     "text": [
      "Epoch 71/100\n"
     ]
    },
    {
     "name": "stdout",
     "output_type": "stream",
     "text": [
      " - 29s - loss: 1.7671 - acc: 0.0165 - val_loss: 1.6706 - val_acc: 0.0060\n"
     ]
    },
    {
     "name": "stdout",
     "output_type": "stream",
     "text": [
      "Epoch 72/100\n"
     ]
    },
    {
     "name": "stdout",
     "output_type": "stream",
     "text": [
      " - 27s - loss: 1.7647 - acc: 0.0160 - val_loss: 1.6686 - val_acc: 0.0060\n"
     ]
    },
    {
     "name": "stdout",
     "output_type": "stream",
     "text": [
      "Epoch 73/100\n"
     ]
    },
    {
     "name": "stdout",
     "output_type": "stream",
     "text": [
      " - 27s - loss: 1.7628 - acc: 0.0173 - val_loss: 1.6666 - val_acc: 0.0060\n"
     ]
    },
    {
     "name": "stdout",
     "output_type": "stream",
     "text": [
      "Epoch 74/100\n"
     ]
    },
    {
     "name": "stdout",
     "output_type": "stream",
     "text": [
      " - 26s - loss: 1.7611 - acc: 0.0161 - val_loss: 1.6646 - val_acc: 0.0060\n"
     ]
    },
    {
     "name": "stdout",
     "output_type": "stream",
     "text": [
      "Epoch 75/100\n"
     ]
    },
    {
     "name": "stdout",
     "output_type": "stream",
     "text": [
      " - 27s - loss: 1.7592 - acc: 0.0163 - val_loss: 1.6626 - val_acc: 0.0060\n"
     ]
    },
    {
     "name": "stdout",
     "output_type": "stream",
     "text": [
      "Epoch 76/100\n"
     ]
    },
    {
     "name": "stdout",
     "output_type": "stream",
     "text": [
      " - 26s - loss: 1.7567 - acc: 0.0182 - val_loss: 1.6605 - val_acc: 0.0060\n"
     ]
    },
    {
     "name": "stdout",
     "output_type": "stream",
     "text": [
      "Epoch 77/100\n"
     ]
    },
    {
     "name": "stdout",
     "output_type": "stream",
     "text": [
      " - 28s - loss: 1.7548 - acc: 0.0172 - val_loss: 1.6585 - val_acc: 0.0060\n"
     ]
    },
    {
     "name": "stdout",
     "output_type": "stream",
     "text": [
      "Epoch 78/100\n"
     ]
    },
    {
     "name": "stdout",
     "output_type": "stream",
     "text": [
      " - 31s - loss: 1.7529 - acc: 0.0163 - val_loss: 1.6565 - val_acc: 0.0060\n"
     ]
    },
    {
     "name": "stdout",
     "output_type": "stream",
     "text": [
      "Epoch 79/100\n"
     ]
    },
    {
     "name": "stdout",
     "output_type": "stream",
     "text": [
      " - 28s - loss: 1.7510 - acc: 0.0149 - val_loss: 1.6545 - val_acc: 0.0060\n"
     ]
    },
    {
     "name": "stdout",
     "output_type": "stream",
     "text": [
      "Epoch 80/100\n"
     ]
    },
    {
     "name": "stdout",
     "output_type": "stream",
     "text": [
      " - 27s - loss: 1.7488 - acc: 0.0165 - val_loss: 1.6525 - val_acc: 0.0060\n"
     ]
    },
    {
     "name": "stdout",
     "output_type": "stream",
     "text": [
      "Epoch 81/100\n"
     ]
    },
    {
     "name": "stdout",
     "output_type": "stream",
     "text": [
      " - 28s - loss: 1.7462 - acc: 0.0156 - val_loss: 1.6506 - val_acc: 0.0060\n"
     ]
    },
    {
     "name": "stdout",
     "output_type": "stream",
     "text": [
      "Epoch 82/100\n"
     ]
    },
    {
     "name": "stdout",
     "output_type": "stream",
     "text": [
      " - 29s - loss: 1.7441 - acc: 0.0158 - val_loss: 1.6486 - val_acc: 0.0060\n"
     ]
    },
    {
     "name": "stdout",
     "output_type": "stream",
     "text": [
      "Epoch 83/100\n"
     ]
    },
    {
     "name": "stdout",
     "output_type": "stream",
     "text": [
      " - 28s - loss: 1.7425 - acc: 0.0171 - val_loss: 1.6466 - val_acc: 0.0060\n"
     ]
    },
    {
     "name": "stdout",
     "output_type": "stream",
     "text": [
      "Epoch 84/100\n"
     ]
    },
    {
     "name": "stdout",
     "output_type": "stream",
     "text": [
      " - 28s - loss: 1.7405 - acc: 0.0172 - val_loss: 1.6446 - val_acc: 0.0060\n"
     ]
    },
    {
     "name": "stdout",
     "output_type": "stream",
     "text": [
      "Epoch 85/100\n"
     ]
    },
    {
     "name": "stdout",
     "output_type": "stream",
     "text": [
      " - 26s - loss: 1.7385 - acc: 0.0171 - val_loss: 1.6426 - val_acc: 0.0060\n"
     ]
    },
    {
     "name": "stdout",
     "output_type": "stream",
     "text": [
      "Epoch 86/100\n"
     ]
    },
    {
     "name": "stdout",
     "output_type": "stream",
     "text": [
      " - 29s - loss: 1.7366 - acc: 0.0165 - val_loss: 1.6406 - val_acc: 0.0060\n"
     ]
    },
    {
     "name": "stdout",
     "output_type": "stream",
     "text": [
      "Epoch 87/100\n"
     ]
    },
    {
     "name": "stdout",
     "output_type": "stream",
     "text": [
      " - 29s - loss: 1.7352 - acc: 0.0150 - val_loss: 1.6387 - val_acc: 0.0060\n"
     ]
    },
    {
     "name": "stdout",
     "output_type": "stream",
     "text": [
      "Epoch 88/100\n"
     ]
    },
    {
     "name": "stdout",
     "output_type": "stream",
     "text": [
      " - 30s - loss: 1.7327 - acc: 0.0171 - val_loss: 1.6367 - val_acc: 0.0060\n"
     ]
    },
    {
     "name": "stdout",
     "output_type": "stream",
     "text": [
      "Epoch 89/100\n"
     ]
    },
    {
     "name": "stdout",
     "output_type": "stream",
     "text": [
      " - 28s - loss: 1.7305 - acc: 0.0171 - val_loss: 1.6347 - val_acc: 0.0060\n"
     ]
    },
    {
     "name": "stdout",
     "output_type": "stream",
     "text": [
      "Epoch 90/100\n"
     ]
    },
    {
     "name": "stdout",
     "output_type": "stream",
     "text": [
      " - 26s - loss: 1.7282 - acc: 0.0174 - val_loss: 1.6328 - val_acc: 0.0060\n"
     ]
    },
    {
     "name": "stdout",
     "output_type": "stream",
     "text": [
      "Epoch 91/100\n"
     ]
    },
    {
     "name": "stdout",
     "output_type": "stream",
     "text": [
      " - 28s - loss: 1.7264 - acc: 0.0162 - val_loss: 1.6308 - val_acc: 0.0060\n"
     ]
    },
    {
     "name": "stdout",
     "output_type": "stream",
     "text": [
      "Epoch 92/100\n"
     ]
    },
    {
     "name": "stdout",
     "output_type": "stream",
     "text": [
      " - 28s - loss: 1.7249 - acc: 0.0168 - val_loss: 1.6289 - val_acc: 0.0060\n"
     ]
    },
    {
     "name": "stdout",
     "output_type": "stream",
     "text": [
      "Epoch 93/100\n"
     ]
    },
    {
     "name": "stdout",
     "output_type": "stream",
     "text": [
      " - 28s - loss: 1.7225 - acc: 0.0170 - val_loss: 1.6269 - val_acc: 0.0060\n"
     ]
    },
    {
     "name": "stdout",
     "output_type": "stream",
     "text": [
      "Epoch 94/100\n"
     ]
    },
    {
     "name": "stdout",
     "output_type": "stream",
     "text": [
      " - 29s - loss: 1.7210 - acc: 0.0177 - val_loss: 1.6250 - val_acc: 0.0060\n"
     ]
    },
    {
     "name": "stdout",
     "output_type": "stream",
     "text": [
      "Epoch 95/100\n"
     ]
    },
    {
     "name": "stdout",
     "output_type": "stream",
     "text": [
      " - 27s - loss: 1.7187 - acc: 0.0169 - val_loss: 1.6230 - val_acc: 0.0060\n"
     ]
    },
    {
     "name": "stdout",
     "output_type": "stream",
     "text": [
      "Epoch 96/100\n"
     ]
    },
    {
     "name": "stdout",
     "output_type": "stream",
     "text": [
      " - 28s - loss: 1.7168 - acc: 0.0166 - val_loss: 1.6211 - val_acc: 0.0060\n"
     ]
    },
    {
     "name": "stdout",
     "output_type": "stream",
     "text": [
      "Epoch 97/100\n"
     ]
    },
    {
     "name": "stdout",
     "output_type": "stream",
     "text": [
      " - 26s - loss: 1.7149 - acc: 0.0154 - val_loss: 1.6191 - val_acc: 0.0060\n"
     ]
    },
    {
     "name": "stdout",
     "output_type": "stream",
     "text": [
      "Epoch 98/100\n"
     ]
    },
    {
     "name": "stdout",
     "output_type": "stream",
     "text": [
      " - 32s - loss: 1.7128 - acc: 0.0165 - val_loss: 1.6172 - val_acc: 0.0060\n"
     ]
    },
    {
     "name": "stdout",
     "output_type": "stream",
     "text": [
      "Epoch 99/100\n"
     ]
    },
    {
     "name": "stdout",
     "output_type": "stream",
     "text": [
      " - 29s - loss: 1.7106 - acc: 0.0173 - val_loss: 1.6153 - val_acc: 0.0060\n"
     ]
    },
    {
     "name": "stdout",
     "output_type": "stream",
     "text": [
      "Epoch 100/100\n"
     ]
    },
    {
     "name": "stdout",
     "output_type": "stream",
     "text": [
      " - 28s - loss: 1.7090 - acc: 0.0164 - val_loss: 1.6133 - val_acc: 0.0060\n"
     ]
    }
   ],
   "source": [
    "batch_size = 1\n",
    "epochs = 100\n",
    "timestep = 6000\n",
    "\n",
    "input_dim = 119\n",
    "output_dim = 29\n",
    "\n",
    "model_pass = Sequential()\n",
    "model_pass.add(LSTM(96, \n",
    "               input_shape=(timestep, input_dim), \n",
    "               return_sequences=True,\n",
    "               kernel_initializer=initializers.glorot_normal(783),\n",
    "               kernel_regularizer=regularizers.l2(0.01)))\n",
    "model_pass.add(Dropout(0.2))\n",
    "model_pass.add(Dense(64, kernel_initializer=initializers.glorot_normal(783), activation='relu'))\n",
    "model_pass.add(Dense(output_dim, kernel_initializer=initializers.glorot_normal(783), activation='softmax'))\n",
    "\n",
    "#opt = rm()\n",
    "#opt = ada()\n",
    "opt = sgd(lr=0.001, momentum=0.9, decay=1e-5, nesterov=True)\n",
    "\n",
    "model_pass.compile(loss='categorical_crossentropy',\n",
    "              optimizer=opt,\n",
    "              metrics=['accuracy'])\n",
    "\n",
    "history_pass = model_pass.fit(x=x_small, y=y_pass_small, batch_size=batch_size, epochs=epochs, verbose=2, \n",
    "                                  callbacks=None, validation_split=0.2, validation_data=None, shuffle=True, \n",
    "                                  class_weight=None, sample_weight=None, initial_epoch=0, steps_per_epoch=None, \n",
    "                                  validation_steps=None)"
   ]
  },
  {
   "cell_type": "code",
   "execution_count": 93,
   "metadata": {},
   "outputs": [],
   "source": [
    "# summarize history for accuracy\n",
    "plt.plot(history_pass.history['acc'])\n",
    "plt.plot(history_pass.history['val_acc'])\n",
    "plt.title('model accuracy')\n",
    "plt.ylabel('accuracy')\n",
    "plt.xlabel('epoch')\n",
    "plt.legend(['train', 'validation'], loc='lower right')\n",
    "plt.savefig('../graphs/pass_acc.png')\n",
    "plt.show()\n",
    "\n",
    "# summarize history for loss\n",
    "plt.plot(history_pass.history['loss'])\n",
    "plt.plot(history_pass.history['val_loss'])\n",
    "plt.title('model loss')\n",
    "plt.ylabel('loss')\n",
    "plt.xlabel('epoch')\n",
    "plt.legend(['train', 'validation'], loc='upper right')\n",
    "plt.savefig('../graphs/pass_loss.png')\n",
    "plt.show()"
   ]
  },
  {
   "cell_type": "code",
   "execution_count": 90,
   "metadata": {},
   "outputs": [],
   "source": [
    "model_pass.save('../model/pass_model.h5')\n",
    "model_pass.save_weights('../model/pass_model_weight.h5')\n",
    "json_data = model_pass.to_json()\n",
    "\n",
    "with open('../model/pass_json_data.txt', 'w') as outfile:\n",
    "    json.dump(json_data, outfile)"
   ]
  },
  {
   "cell_type": "code",
   "execution_count": null,
   "metadata": {},
   "outputs": [],
   "source": []
  }
 ],
 "metadata": {
  "kernelspec": {
   "display_name": "Python 2",
   "language": "python",
   "name": "python2"
  },
  "language_info": {
   "codemirror_mode": {
    "name": "ipython",
    "version": 2
   },
   "file_extension": ".py",
   "mimetype": "text/x-python",
   "name": "python",
   "nbconvert_exporter": "python",
   "pygments_lexer": "ipython2",
   "version": "2.7.6"
  }
 },
 "nbformat": 4,
 "nbformat_minor": 0
}
