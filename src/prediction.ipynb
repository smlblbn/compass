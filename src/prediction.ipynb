{
 "cells": [
  {
   "cell_type": "code",
   "execution_count": 20,
   "metadata": {
    "collapsed": true
   },
   "outputs": [],
   "source": [
    "from keras.models import load_model\n",
    "import numpy as np\n",
    "import pickle\n",
    "\n",
    "data_height = 6000\n",
    "data_width = 87\n",
    "label_team_width = 3\n",
    "label_player_width = 29\n",
    "label_pass_width = 29\n",
    "\n",
    "def normalize(data):\n",
    "    with open('../model/mean_std.pkl', 'rb') as file:\n",
    "        mean, std = pickle.load(file)\n",
    "    return (data - mean) / std"
   ]
  },
  {
   "cell_type": "markdown",
   "metadata": {},
   "source": [
    "Test match array"
   ]
  },
  {
   "cell_type": "code",
   "execution_count": 21,
   "metadata": {},
   "outputs": [],
   "source": [
    "first_test_match_id = 60566\n",
    "test_match_count = 1\n",
    "\n",
    "x_test = np.ndarray(shape=(test_match_count, data_height, data_width), dtype=np.float)\n",
    "y_test_team = np.ndarray(shape=(test_match_count, data_height, label_team_width), dtype=np.int)\n",
    "y_test_player = np.ndarray(shape=(test_match_count, data_height, label_player_width), dtype=np.int)\n",
    "y_test_pass = np.ndarray(shape=(test_match_count, data_height, label_pass_width), dtype=np.int)\n",
    "\n",
    "for id in range(test_match_count):\n",
    "    x_test[id] = np.load('../data/match_' + str(id + first_test_match_id) + '/x_data.npy')\n",
    "    y_test_team[id] = np.load('../data/match_' + str(id + first_test_match_id) + '/y_team_data.npy')\n",
    "    y_test_player[id] = np.load('../data/match_' + str(id + first_test_match_id) + '/y_player_data.npy')\n",
    "    y_test_pass[id] = np.load('../data/match_' + str(id + first_test_match_id) + '/y_pass_data.npy')"
   ]
  },
  {
   "cell_type": "code",
   "execution_count": 22,
   "metadata": {
    "collapsed": true
   },
   "outputs": [],
   "source": [
    "x_test = normalize(x_test)"
   ]
  },
  {
   "cell_type": "markdown",
   "metadata": {},
   "source": [
    "Team prediction"
   ]
  },
  {
   "cell_type": "code",
   "execution_count": 23,
   "metadata": {},
   "outputs": [],
   "source": [
    "team_model = load_model('../model/team_model.h5')"
   ]
  },
  {
   "cell_type": "code",
   "execution_count": 24,
   "metadata": {},
   "outputs": [
    {
     "name": "stdout",
     "output_type": "stream",
     "text": [
      "\r1/1 [==============================] - 2s 2s/step\n"
     ]
    },
    {
     "name": "stdout",
     "output_type": "stream",
     "text": [
      "team possesion test acc:  0.4440000057220459\n"
     ]
    }
   ],
   "source": [
    "score = team_model.evaluate(x_test, y_test_team)\n",
    "print('team possesion test acc: ', score[1])"
   ]
  },
  {
   "cell_type": "code",
   "execution_count": 25,
   "metadata": {},
   "outputs": [],
   "source": [
    "y_team_pred = team_model.predict(x_test)\n",
    "\n",
    "for id in range(test_match_count):\n",
    "    with open('../data/match_' + str(id + first_test_match_id) + '/y_team_pred.npy', 'wb') as file:\n",
    "        np.save(file, y_team_pred)"
   ]
  },
  {
   "cell_type": "markdown",
   "metadata": {},
   "source": [
    "Player prediction"
   ]
  },
  {
   "cell_type": "code",
   "execution_count": null,
   "metadata": {},
   "outputs": [],
   "source": [
    "player_model = load_model('../model/player_model.h5')"
   ]
  },
  {
   "cell_type": "code",
   "execution_count": null,
   "metadata": {},
   "outputs": [],
   "source": [
    "x_test = np.concatenate((x_test, y_team_pred), axis=2)"
   ]
  },
  {
   "cell_type": "code",
   "execution_count": null,
   "metadata": {},
   "outputs": [],
   "source": [
    "score = player_model.evaluate(x_test, y_test_player)\n",
    "print('player possesion test acc: ', score[1])"
   ]
  },
  {
   "cell_type": "code",
   "execution_count": null,
   "metadata": {},
   "outputs": [],
   "source": [
    "y_player_pred = player_model.predict(x_test)\n",
    "\n",
    "for id in range(test_match_count):\n",
    "    with open('../data/match_' + str(id + first_test_match_id) + '/y_player_pred.npy', 'wb') as file:\n",
    "        np.save(file, y_player_pred)"
   ]
  },
  {
   "cell_type": "markdown",
   "metadata": {},
   "source": [
    "Pass prediction"
   ]
  },
  {
   "cell_type": "code",
   "execution_count": null,
   "metadata": {},
   "outputs": [],
   "source": [
    "pass_model = load_model('../model/pass_model.h5')"
   ]
  },
  {
   "cell_type": "code",
   "execution_count": null,
   "metadata": {},
   "outputs": [],
   "source": [
    "x_test = np.concatenate((x_test, y_player_pred), axis=2)"
   ]
  },
  {
   "cell_type": "code",
   "execution_count": null,
   "metadata": {},
   "outputs": [],
   "source": [
    "score = pass_model.evaluate(x_test, y_test_pas)\n",
    "print('pass possesion test acc: ', score[1])"
   ]
  },
  {
   "cell_type": "code",
   "execution_count": null,
   "metadata": {},
   "outputs": [],
   "source": [
    "y_pass_pred = pass_model.predict(x_test)\n",
    "\n",
    "for id in range(test_match_count):\n",
    "    with open('../data/match_' + str(id + first_test_match_id) + '/y_pass_pred.npy', 'wb') as file:\n",
    "        np.save(file, y_pass_pred)"
   ]
  },
  {
   "cell_type": "code",
   "execution_count": null,
   "metadata": {},
   "outputs": [],
   "source": []
  }
 ],
 "metadata": {
  "kernelspec": {
   "display_name": "Python 2",
   "language": "python",
   "name": "python2"
  },
  "language_info": {
   "codemirror_mode": {
    "name": "ipython",
    "version": 2
   },
   "file_extension": ".py",
   "mimetype": "text/x-python",
   "name": "python",
   "nbconvert_exporter": "python",
   "pygments_lexer": "ipython2",
   "version": "2.7.6"
  }
 },
 "nbformat": 4,
 "nbformat_minor": 0
}
